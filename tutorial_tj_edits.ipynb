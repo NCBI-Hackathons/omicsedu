{
 "cells": [
  {
   "cell_type": "markdown",
   "metadata": {},
   "source": [
    "# SeqAcademy Multiomics Tutorial\n",
    "\n",
    "# Contents\n",
    "1. Intro to Jupyter Notebook\n",
    "2. Installation\n",
    "    1. Set up channels\n",
    "    2. Create an environment and install the packages\n",
    "3. Alignment\n",
    "    1. HISAT \n",
    "    2. Samtools\n",
    "    3. MultiQC\n",
    "4. ChIP-Seq Analysis\n",
    "    1. MACS\n",
    "    2. Bedtools\n",
    "    3. IGV\n",
    "5. RNA-Seq Analysis\n",
    "    1. HTSeq\n",
    "    2. DESeq\n",
    "    3. Visualization"
   ]
  },
  {
   "cell_type": "markdown",
   "metadata": {},
   "source": [
    "# 1. Intro to Jupyter Notebook\n",
    "\n",
    "http://jupyter-notebook-beginner-guide.readthedocs.io/en/latest/what_is_jupyter.html\n",
    "\n",
    "This tutorial is an example of a Jupyter Notebook, which is the continuation of the IPython Notebook project.  The Jupyter Notebook App runs on any web browser application.\n",
    "\n",
    "A notebook contains various features, such as a kernel that can execute code and the ability to render markdown text.  Thus, there are two important types of cells:\n",
    "\n",
    "* Code cells - type commands in a variety of languages (Python, bash, R, etc.) and execute them\n",
    "* Markdown cells - format text and data for a clear presentation of material\n",
    "\n",
    "Jupyter notebooks are self-contained documents that can provide a convenient way to both annotate and execute code, in a variety of languages all from within a web browser."
   ]
  },
  {
   "cell_type": "markdown",
   "metadata": {},
   "source": [
    "# 2. Installation\n",
    "\n",
    "Before running any programs, we'll make sure that each software is installed correctly. This tutorial uses Bioconda (https://bioconda.github.io/). Bioconda is a channel for the conda package manager specializing in bioinformatics software. The available packages are listed here: https://bioconda.github.io/recipes.html#recipes.\n",
    "\n",
    "Corey Schafer among others has made a youtube tutorial video on downloading and installing anaconda as well as setting up virutal environments, which will be discussed in the \"Create Environment and Install Packages\" portion of this tutorial.\n",
    "https://www.youtube.com/watch?v=YJC6ldI3hWk"
   ]
  },
  {
   "cell_type": "markdown",
   "metadata": {},
   "source": [
    "### 2A. Set up channels\n",
    "\n",
    "You will need to add the bioconda channel as well as the other channels bioconda depends on. It is important to add them in this order so that the priority is set correctly (that is, bioconda is highest priority).\n",
    "\n",
    "The conda-forge channel contains many general-purpose packages not already found in the defaults channel. The r channel is only included due to backward compatibility. It is not mandatory, but without the r channel packages compiled against R 3.3.1 might not work."
   ]
  },
  {
   "cell_type": "markdown",
   "metadata": {},
   "source": [
    "This tutorial uses cells written in python and unix to perform its analyses. Lines that are written in unix are prefixed by an exclamation point. \n",
    "\n",
    "Select the following cell and run it. To run a cell, select the cell, click \"Cell\" the upper taskbar, and select \"Run Cells\". Or click the cell and press shift + enter. Alternatively, the contents of any cell may be copy+pasted into the terminal emulator to run.\n",
    "\n",
    "The `--add channels` is an option that is supplied to the command ot tell it to add certain channels that you specify. The way it is written, the channels \"defaults\", \"conda-forge\", and \"bioconda\", would be added in that order. "
   ]
  },
  {
   "cell_type": "code",
   "execution_count": 68,
   "metadata": {
    "collapsed": false
   },
   "outputs": [
    {
     "name": "stdout",
     "output_type": "stream",
     "text": [
      "Warning: 'defaults' already in 'channels' list, moving to the top\n",
      "Warning: 'conda-forge' already in 'channels' list, moving to the top\n",
      "Warning: 'bioconda' already in 'channels' list, moving to the top\n"
     ]
    }
   ],
   "source": [
    "!conda config --add channels defaults\n",
    "!conda config --add channels conda-forge\n",
    "!conda config --add channels bioconda"
   ]
  },
  {
   "cell_type": "markdown",
   "metadata": {},
   "source": [
    "### 2B. Create an environment and install the packages\n",
    "\n",
    "In this tutorial we will create an environment named \"tutorial\" and install the packages in there. Environments offer ways of installing packages in separated workspaces so they can be managed and run for different specifications. You can create, export, list, remove and update environments that have different versions of Python and/or packages installed in them. Switching or moving between environments is called activating the environment. You can also share an environment file.\n",
    "\n",
    "This command will create an environment, \"tutorial\", in which to install the packages used in this tutorial.\n",
    "\n",
    "Run the following commands to create the environment. The `-n` flag specifies the name of the environment to create (which is called \"tutorial\") and the list of packages following the name are the packages that will be installed in the \"tutorial\" environment.\n",
    "\n",
    "This will most likely take 10-15 minutes.\n",
    "\n",
    "For more questions on virtual environments and their uses, you can refer to the video mentioned in the \"Installation\" section:  https://www.youtube.com/watch?v=YJC6ldI3hWk"
   ]
  },
  {
   "cell_type": "code",
   "execution_count": 69,
   "metadata": {
    "collapsed": false
   },
   "outputs": [
    {
     "name": "stdout",
     "output_type": "stream",
     "text": [
      "\r\n",
      "CondaValueError: prefix already exists: /Users/butlertj/anaconda/envs/tutorial\r\n",
      "\r\n"
     ]
    }
   ],
   "source": [
    "!conda create -n tutorial hisat2 multiqc macs2 bioconductor-deseq matplotlib ggplot samtools bioconductor-rsamtools bedtools htseq wget --yes"
   ]
  },
  {
   "cell_type": "markdown",
   "metadata": {},
   "source": [
    "Then activate the environment with the following command."
   ]
  },
  {
   "cell_type": "code",
   "execution_count": null,
   "metadata": {
    "collapsed": false,
    "scrolled": true
   },
   "outputs": [],
   "source": [
    "# For Mac and Linux\n",
    "\n",
    "!source activate tutorial\n",
    "!jupyter notebook"
   ]
  },
  {
   "cell_type": "code",
   "execution_count": 1,
   "metadata": {
    "collapsed": false
   },
   "outputs": [
    {
     "name": "stdout",
     "output_type": "stream",
     "text": [
      "# conda environments:\r\n",
      "#\r\n",
      "base                     /Users/butlertj/anaconda\r\n",
      "tutorial              *  /Users/butlertj/anaconda/envs/tutorial\r\n",
      "\r\n"
     ]
    }
   ],
   "source": [
    "!conda env list"
   ]
  },
  {
   "cell_type": "code",
   "execution_count": null,
   "metadata": {
    "collapsed": true
   },
   "outputs": [],
   "source": [
    "# For Windows\n",
    "\n",
    "!activate tutorial"
   ]
  },
  {
   "cell_type": "markdown",
   "metadata": {},
   "source": [
    "# 3. Alignment\n",
    "### 3A. HISAT (Hierarchical Indexing for Spliced Alignment of Transcripts)\n",
    "\n",
    "In this tutorial, we'll use Hisat to align the sample reads to a reference genome. Hisat automatically downloads and preprocesses the reads so they're ready to be aligned. Hisat (hierarchical indexing for spliced alignment of transcripts) is a highly efficient system for aligning reads from RNA sequencing experiments. HISAT uses an indexing scheme based on the Burrows-Wheeler transform and the Ferragina-Manzini (FM) index, employing two types of indexes for alignment: a whole-genome FM index to anchor each alignment and numerous local FM indexes for very rapid extensions of these alignments. HISAT’s hierarchical index for the human genome contains 48,000 local FM indexes, each representing a genomic region of ~64,000 bp."
   ]
  },
  {
   "cell_type": "markdown",
   "metadata": {},
   "source": [
    "The RNA-Seq data we'll use is from https://www.ncbi.nlm.nih.gov/Traces/study/?acc=SRP106028 and the ChIP-Seq data is from https://www.ncbi.nlm.nih.gov/Traces/study/?acc=SRP132584\n",
    "\n",
    "The model organism for this project is Yeast i.e. Saccharomyces cerevisiae. For RNA-Seq, yeast data between euploid and aneuoploid conditions will be compared. For ChIP-SEq, yeast data between 3AT-treated and untreated conditions will be compared.\n",
    "\n",
    "The following cell contains python code. \n",
    "\n",
    "The Python programming language comes with a variety of built-in functions. Among these are several common functions, including:\n",
    "\n",
    "+ print() which prints expressions out\n",
    "+ abs() which returns the absolute value of a number\n",
    "+ int() which converts another data type to an integer\n",
    "+ len() which returns the length of a sequence or collection\n",
    "\n",
    "These built-in functions, however, are limited, and we can make use of modules to make more sophisticated programs.\n",
    "\n",
    "Modules are Python .py files that consist of Python code. Any Python file can be referenced as a module. A Python file called hello.py has the module name of hello that can be imported into other Python files or used on the Python command line interpreter. \n",
    "\n",
    "Run the following cell to see what it does and observe the output"
   ]
  },
  {
   "cell_type": "code",
   "execution_count": 2,
   "metadata": {
    "collapsed": false
   },
   "outputs": [
    {
     "name": "stdout",
     "output_type": "stream",
     "text": [
      "0    RNA-Seq run SRR5494627\n",
      "1    RNA-Seq run SRR5494630\n",
      "Name: Run, dtype: object\n",
      "0    ChIP-Seq run SRR6703656\n",
      "1    ChIP-Seq run SRR6703661\n",
      "Name: Run, dtype: object\n"
     ]
    }
   ],
   "source": [
    "from pandas import read_csv\n",
    "\n",
    "RNASeqSRARunTableFile='data/RNASeqSRA.tsv'\n",
    "RNASeqSRATable = read_csv(RNASeqSRARunTableFile, delimiter='\\t')\n",
    "RNASeqoutrun = (RNASeqSRATable[\"Run\"]).astype(list)\n",
    "RNASeqoutputSam = \"test/\" + RNASeqoutrun + \".sam\"\n",
    "RNASeqoutputAlignmentSummary = \"test/\" + RNASeqoutrun + \".txt\"\n",
    "RNASeqoutputMetrics = \"test/\" + RNASeqoutrun + \".metrics\"\n",
    "RNASeqoutputSortBam = \"test/\" + RNASeqoutrun + \".sorted.bam\"\n",
    "\n",
    "ChIPSeqSRARunTableFile='data/ChIPSeqSRA.tsv'\n",
    "ChIPSeqSRATable = read_csv(ChIPSeqSRARunTableFile, delimiter='\\t')\n",
    "ChIPSeqoutrun = (ChIPSeqSRATable[\"Run\"]).astype(list)\n",
    "ChIPSeqoutputSam = \"test/\" + ChIPSeqoutrun + \".sam\"\n",
    "ChIPSeqoutputAlignmentSummary = \"test/\" + ChIPSeqoutrun + \".txt\"\n",
    "ChIPSeqoutputMetrics = \"test/\" + ChIPSeqoutrun + \".metrics\"\n",
    "ChIPSeqoutputSortBam = \"test/\" + ChIPSeqoutrun + \".sorted.bam\"\n",
    "\n",
    "print(\"RNA-Seq run \" + RNASeqoutrun)\n",
    "print(\"ChIP-Seq run \" + ChIPSeqoutrun)"
   ]
  },
  {
   "cell_type": "markdown",
   "metadata": {},
   "source": [
    "Then run the following command to create the yeast index. The following command is a bash script `makeYeastIndex.sh` in the directory `scripts`. When run, the script downloads sequences for the latest Yeast release from Ensembl. By default, it builds and index for just the base files, since alignments to those sequences are the most useful.  To change which categories are built by this script, edit the CHRS_TO_INDEX variable in the `scripts/makeYeastIndex.sh` file. \n",
    "\n",
    "We will also use the `mkdir` command to make a directory `test` that will be used for storing the output from this tutoirial. "
   ]
  },
  {
   "cell_type": "markdown",
   "metadata": {},
   "source": [
    "### PUTTING BASH SCRIPTS IN JUPYTER NOTEBOOK"
   ]
  },
  {
   "cell_type": "markdown",
   "metadata": {},
   "source": [
    "We will begin by checking to see if a directory called \"yeast_index\" has already been created (e.g. already ran the command once) and if not, create it then 'cd' into this new directory."
   ]
  },
  {
   "cell_type": "code",
   "execution_count": 72,
   "metadata": {
    "collapsed": false
   },
   "outputs": [
    {
     "name": "stdout",
     "output_type": "stream",
     "text": [
      "# conda environments:\r\n",
      "#\r\n",
      "base                  *  /Users/butlertj/anaconda\r\n",
      "tutorial                 /Users/butlertj/anaconda/envs/tutorial\r\n",
      "\r\n"
     ]
    }
   ],
   "source": [
    "!source activate tutorial\n",
    "!conda env list"
   ]
  },
  {
   "cell_type": "code",
   "execution_count": 4,
   "metadata": {
    "collapsed": false,
    "scrolled": true
   },
   "outputs": [],
   "source": [
    "%%bash\n",
    "dirName=\"yeast_index\"\n",
    "if [ ! -d \"$dirName\" ]; then\n",
    "    mkdir yeast_index\n",
    "fi"
   ]
  },
  {
   "cell_type": "markdown",
   "metadata": {},
   "source": [
    "Our next step is to 'cd' into the new directory, yeast_index, and download the sequences for release 84 of the Saccharomyces cerevisiae genome.  We will only download the top-level sequence in order to save time.  Note that these commands are also in the makeYeastIndex.sh file, which is under the scripts directory."
   ]
  },
  {
   "cell_type": "code",
   "execution_count": 7,
   "metadata": {
    "collapsed": false
   },
   "outputs": [
    {
     "name": "stdout",
     "output_type": "stream",
     "text": [
      "Running hisat2-build genome.fa genome\n",
      "Building DifferenceCoverSample\n",
      "  Building sPrime\n",
      "  Building sPrimeOrder\n",
      "  V-Sorting samples\n",
      "  V-Sorting samples time: 00:00:00\n",
      "  Allocating rank array\n",
      "  Ranking v-sort output\n",
      "  Ranking v-sort output time: 00:00:00\n",
      "  Invoking Larsson-Sadakane on ranks\n",
      "  Invoking Larsson-Sadakane on ranks time: 00:00:00\n",
      "  Sanity-checking and returning\n",
      "Building samples\n",
      "Reserving space for 12 sample suffixes\n",
      "Generating random suffixes\n",
      "QSorting 12 sample offsets, eliminating duplicates\n",
      "QSorting sample offsets, eliminating duplicates time: 00:00:00\n",
      "Multikey QSorting 12 samples\n",
      "  (Using difference cover)\n",
      "  Multikey QSorting samples time: 00:00:00\n",
      "Calculating bucket sizes\n",
      "Splitting and merging\n",
      "  Splitting and merging time: 00:00:00\n",
      "Split 1, merged 5; iterating...\n",
      "Splitting and merging\n",
      "  Splitting and merging time: 00:00:00\n",
      "Avg bucket size: 1.51964e+06 (target: 2279456)\n",
      "Getting block 1 of 8\n",
      "  Reserving size (2279457) for bucket 1\n",
      "  Calculating Z arrays for bucket 1\n",
      "  Entering block accumulator loop for bucket 1:\n",
      "  bucket 1: 10%\n",
      "  bucket 1: 20%\n",
      "  bucket 1: 30%\n",
      "  bucket 1: 40%\n",
      "  bucket 1: 50%\n",
      "  bucket 1: 60%\n",
      "  bucket 1: 70%\n",
      "  bucket 1: 80%\n",
      "  bucket 1: 90%\n",
      "  bucket 1: 100%\n",
      "  Sorting block of length 2000591 for bucket 1\n",
      "  (Using difference cover)\n",
      "  Sorting block time: 00:00:01\n",
      "Returning block of 2000592 for bucket 1\n",
      "Getting block 2 of 8\n",
      "  Reserving size (2279457) for bucket 2\n",
      "  Calculating Z arrays for bucket 2\n",
      "  Entering block accumulator loop for bucket 2:\n",
      "  bucket 2: 10%\n",
      "  bucket 2: 20%\n",
      "  bucket 2: 30%\n",
      "  bucket 2: 40%\n",
      "  bucket 2: 50%\n",
      "  bucket 2: 60%\n",
      "  bucket 2: 70%\n",
      "  bucket 2: 80%\n",
      "  bucket 2: 90%\n",
      "  bucket 2: 100%\n",
      "  Sorting block of length 1791111 for bucket 2\n",
      "  (Using difference cover)\n",
      "  Sorting block time: 00:00:01\n",
      "Returning block of 1791112 for bucket 2\n",
      "Getting block 3 of 8\n",
      "  Reserving size (2279457) for bucket 3\n",
      "  Calculating Z arrays for bucket 3\n",
      "  Entering block accumulator loop for bucket 3:\n",
      "  bucket 3: 10%\n",
      "  bucket 3: 20%\n",
      "  bucket 3: 30%\n",
      "  bucket 3: 40%\n",
      "  bucket 3: 50%\n",
      "  bucket 3: 60%\n",
      "  bucket 3: 70%\n",
      "  bucket 3: 80%\n",
      "  bucket 3: 90%\n",
      "  bucket 3: 100%\n",
      "  Sorting block of length 1386934 for bucket 3\n",
      "  (Using difference cover)\n",
      "  Sorting block time: 00:00:00\n",
      "Returning block of 1386935 for bucket 3\n",
      "Getting block 4 of 8\n",
      "  Reserving size (2279457) for bucket 4\n",
      "  Calculating Z arrays for bucket 4\n",
      "  Entering block accumulator loop for bucket 4:\n",
      "  bucket 4: 10%\n",
      "  bucket 4: 20%\n",
      "  bucket 4: 30%\n",
      "  bucket 4: 40%\n",
      "  bucket 4: 50%\n",
      "  bucket 4: 60%\n",
      "  bucket 4: 70%\n",
      "  bucket 4: 80%\n",
      "  bucket 4: 90%\n",
      "  bucket 4: 100%\n",
      "  Sorting block of length 1309547 for bucket 4\n",
      "  (Using difference cover)\n",
      "  Sorting block time: 00:00:00\n",
      "Returning block of 1309548 for bucket 4\n",
      "Getting block 5 of 8\n",
      "  Reserving size (2279457) for bucket 5\n",
      "  Calculating Z arrays for bucket 5\n",
      "  Entering block accumulator loop for bucket 5:\n",
      "  bucket 5: 10%\n",
      "  bucket 5: 20%\n",
      "  bucket 5: 30%\n",
      "  bucket 5: 40%\n",
      "  bucket 5: 50%\n",
      "  bucket 5: 60%\n",
      "  bucket 5: 70%\n",
      "  bucket 5: 80%\n",
      "  bucket 5: 90%\n",
      "  bucket 5: 100%\n",
      "  Sorting block of length 1717347 for bucket 5\n",
      "  (Using difference cover)\n",
      "  Sorting block time: 00:00:01\n",
      "Returning block of 1717348 for bucket 5\n",
      "Getting block 6 of 8\n",
      "  Reserving size (2279457) for bucket 6\n",
      "  Calculating Z arrays for bucket 6\n",
      "  Entering block accumulator loop for bucket 6:\n",
      "  bucket 6: 10%\n",
      "  bucket 6: 20%\n",
      "  bucket 6: 30%\n",
      "  bucket 6: 40%\n",
      "  bucket 6: 50%\n",
      "  bucket 6: 60%\n",
      "  bucket 6: 70%\n",
      "  bucket 6: 80%\n",
      "  bucket 6: 90%\n",
      "  bucket 6: 100%\n",
      "  Sorting block of length 1538951 for bucket 6\n",
      "  (Using difference cover)\n",
      "  Sorting block time: 00:00:01\n",
      "Returning block of 1538952 for bucket 6\n",
      "Getting block 7 of 8\n",
      "  Reserving size (2279457) for bucket 7\n",
      "  Calculating Z arrays for bucket 7\n",
      "  Entering block accumulator loop for bucket 7:\n",
      "  bucket 7: 10%\n",
      "  bucket 7: 20%\n",
      "  bucket 7: 30%\n",
      "  bucket 7: 40%\n",
      "  bucket 7: 50%\n",
      "  bucket 7: 60%\n",
      "  bucket 7: 70%\n",
      "  bucket 7: 80%\n",
      "  bucket 7: 90%\n",
      "  bucket 7: 100%\n",
      "  Sorting block of length 1421401 for bucket 7\n",
      "  (Using difference cover)\n",
      "  Sorting block time: 00:00:01\n",
      "Returning block of 1421402 for bucket 7\n",
      "Getting block 8 of 8\n",
      "  Reserving size (2279457) for bucket 8\n",
      "  Calculating Z arrays for bucket 8\n",
      "  Entering block accumulator loop for bucket 8:\n",
      "  bucket 8: 10%\n",
      "  bucket 8: 20%\n",
      "  bucket 8: 30%\n",
      "  bucket 8: 40%\n",
      "  bucket 8: 50%\n",
      "  bucket 8: 60%\n",
      "  bucket 8: 70%\n",
      "  bucket 8: 80%\n",
      "  bucket 8: 90%\n",
      "  bucket 8: 100%\n",
      "  Sorting block of length 991216 for bucket 8\n",
      "  (Using difference cover)\n",
      "  Sorting block time: 00:00:00\n",
      "Returning block of 991217 for bucket 8\n",
      "genome index built; you may remove fasta files\n"
     ]
    },
    {
     "name": "stderr",
     "output_type": "stream",
     "text": [
      "--2018-08-14 14:02:42--  ftp://ftp.ensembl.org/pub/release-84/fasta/saccharomyces_cerevisiae/dna//Saccharomyces_cerevisiae.R64-1-1.dna.toplevel.fa.gz\n",
      "           => 'Saccharomyces_cerevisiae.R64-1-1.dna.toplevel.fa.gz'\n",
      "Resolving ftp.ensembl.org... 193.62.193.8\n",
      "Connecting to ftp.ensembl.org|193.62.193.8|:21... connected.\n",
      "Logging in as anonymous ... Logged in!\n",
      "==> SYST ... done.    ==> PWD ... done.\n",
      "==> TYPE I ... done.  ==> CWD (1) /pub/release-84/fasta/saccharomyces_cerevisiae/dna/ ... done.\n",
      "==> SIZE Saccharomyces_cerevisiae.R64-1-1.dna.toplevel.fa.gz ... 3786708\n",
      "==> PASV ... done.    ==> RETR Saccharomyces_cerevisiae.R64-1-1.dna.toplevel.fa.gz ... done.\n",
      "Length: 3786708 (3.6M) (unauthoritative)\n",
      "\n",
      "     0K .......... .......... .......... .......... ..........  1%  263K 14s\n",
      "    50K .......... .......... .......... .......... ..........  2%  572K 10s\n",
      "   100K .......... .......... .......... .......... ..........  4% 68.9M 7s\n",
      "   150K .......... .......... .......... .......... ..........  5% 69.0M 5s\n",
      "   200K .......... .......... .......... .......... ..........  6% 83.2K 12s\n",
      "   250K .......... .......... .......... .......... ..........  8% 49.5M 10s\n",
      "   300K .......... .......... .......... .......... ..........  9% 76.8M 8s\n",
      "   350K .......... .......... .......... .......... .......... 10% 79.9M 7s\n",
      "   400K .......... .......... .......... .......... .......... 12%  586K 7s\n",
      "   450K .......... .......... .......... .......... .......... 13% 47.1M 6s\n",
      "   500K .......... .......... .......... .......... .......... 14% 41.0M 6s\n",
      "   550K .......... .......... .......... .......... .......... 16% 71.7M 5s\n",
      "   600K .......... .......... .......... .......... .......... 17%  593K 5s\n",
      "   650K .......... .......... .......... .......... .......... 18% 73.9M 5s\n",
      "   700K .......... .......... .......... .......... .......... 20% 80.8M 4s\n",
      "   750K .......... .......... .......... .......... .......... 21% 76.2M 4s\n",
      "   800K .......... .......... .......... .......... .......... 22% 98.6M 4s\n",
      "   850K .......... .......... .......... .......... .......... 24% 69.5M 3s\n",
      "   900K .......... .......... .......... .......... .......... 25%  326K 4s\n",
      "   950K .......... .......... .......... .......... .......... 27% 47.1M 3s\n",
      "  1000K .......... .......... .......... .......... .......... 28% 52.7M 3s\n",
      "  1050K .......... .......... .......... .......... .......... 29% 72.8M 3s\n",
      "  1100K .......... .......... .......... .......... .......... 31%  370K 3s\n",
      "  1150K .......... .......... .......... .......... .......... 32% 71.5M 3s\n",
      "  1200K .......... .......... .......... .......... .......... 33% 69.2M 3s\n",
      "  1250K .......... .......... .......... .......... .......... 35% 79.4M 2s\n",
      "  1300K .......... .......... .......... .......... .......... 36% 75.7M 2s\n",
      "  1350K .......... .......... .......... .......... .......... 37% 74.7M 2s\n",
      "  1400K .......... .......... .......... .......... .......... 39% 79.4M 2s\n",
      "  1450K .......... .......... .......... .......... .......... 40% 83.0M 2s\n",
      "  1500K .......... .......... .......... .......... .......... 41% 71.1M 2s\n",
      "  1550K .......... .......... .......... .......... .......... 43% 84.3M 2s\n",
      "  1600K .......... .......... .......... .......... .......... 44% 80.2M 2s\n",
      "  1650K .......... .......... .......... .......... .......... 45% 76.8M 2s\n",
      "  1700K .......... .......... .......... .......... .......... 47% 75.7M 2s\n",
      "  1750K .......... .......... .......... .......... .......... 48%  622K 2s\n",
      "  1800K .......... .......... .......... .......... .......... 50% 30.8M 1s\n",
      "  1850K .......... .......... .......... .......... .......... 51% 86.9M 1s\n",
      "  1900K .......... .......... .......... .......... .......... 52%  116M 1s\n",
      "  1950K .......... .......... .......... .......... .......... 54%  103M 1s\n",
      "  2000K .......... .......... .......... .......... .......... 55% 94.1M 1s\n",
      "  2050K .......... .......... .......... .......... .......... 56%  121M 1s\n",
      "  2100K .......... .......... .......... .......... .......... 58% 42.8M 1s\n",
      "  2150K .......... .......... .......... .......... .......... 59% 71.4M 1s\n",
      "  2200K .......... .......... .......... .......... .......... 60% 57.4M 1s\n",
      "  2250K .......... .......... .......... .......... .......... 62% 85.7M 1s\n",
      "  2300K .......... .......... .......... .......... .......... 63% 82.2M 1s\n",
      "  2350K .......... .......... .......... .......... .......... 64%  624K 1s\n",
      "  2400K .......... .......... .......... .......... .......... 66% 70.8M 1s\n",
      "  2450K .......... .......... .......... .......... .......... 67% 93.9M 1s\n",
      "  2500K .......... .......... .......... .......... .......... 68% 53.8M 1s\n",
      "  2550K .......... .......... .......... .......... .......... 70% 85.2M 1s\n",
      "  2600K .......... .......... .......... .......... .......... 71% 86.7M 1s\n",
      "  2650K .......... .......... .......... .......... .......... 73%  110M 1s\n",
      "  2700K .......... .......... .......... .......... .......... 74% 79.3M 1s\n",
      "  2750K .......... .......... .......... .......... .......... 75% 75.0M 0s\n",
      "  2800K .......... .......... .......... .......... .......... 77% 61.0M 0s\n",
      "  2850K .......... .......... .......... .......... .......... 78% 67.2M 0s\n",
      "  2900K .......... .......... .......... .......... .......... 79% 57.2M 0s\n",
      "  2950K .......... .......... .......... .......... .......... 81% 54.2M 0s\n",
      "  3000K .......... .......... .......... .......... .......... 82%  630K 0s\n",
      "  3050K .......... .......... .......... .......... .......... 83% 73.6M 0s\n",
      "  3100K .......... .......... .......... .......... .......... 85% 65.5M 0s\n",
      "  3150K .......... .......... .......... .......... .......... 86% 69.3M 0s\n",
      "  3200K .......... .......... .......... .......... .......... 87% 99.4M 0s\n",
      "  3250K .......... .......... .......... .......... .......... 89% 55.4M 0s\n",
      "  3300K .......... .......... .......... .......... .......... 90% 89.9M 0s\n",
      "  3350K .......... .......... .......... .......... .......... 91% 71.2M 0s\n",
      "  3400K .......... .......... .......... .......... .......... 93% 84.9M 0s\n",
      "  3450K .......... .......... .......... .......... .......... 94% 37.6M 0s\n",
      "  3500K .......... .......... .......... .......... .......... 95% 42.4M 0s\n",
      "  3550K .......... .......... .......... .......... .......... 97% 59.3M 0s\n",
      "  3600K .......... .......... .......... .......... .......... 98% 88.0M 0s\n",
      "  3650K .......... .......... .......... .......... .......   100%  114M=1.6s\n",
      "\n",
      "2018-08-14 14:02:45 (2.23 MB/s) - 'Saccharomyces_cerevisiae.R64-1-1.dna.toplevel.fa.gz' saved [3786708]\n",
      "\n",
      "Settings:\n",
      "  Output files: \"genome.*.ht2\"\n",
      "  Line rate: 6 (line is 64 bytes)\n",
      "  Lines per side: 1 (side is 64 bytes)\n",
      "  Offset rate: 4 (one in 16)\n",
      "  FTable chars: 10\n",
      "  Strings: unpacked\n",
      "  Local offset rate: 3 (one in 8)\n",
      "  Local fTable chars: 6\n",
      "  Local sequence length: 57344\n",
      "  Local sequence overlap between two consecutive indexes: 1024\n",
      "  Endianness: little\n",
      "  Actual local endianness: little\n",
      "  Sanity checking: disabled\n",
      "  Assertions: disabled\n",
      "  Random seed: 0\n",
      "  Sizeofs: void*:8, int:4, long:8, size_t:8\n",
      "Input files DNA, FASTA:\n",
      "  genome.fa\n",
      "Reading reference sizes\n",
      "  Time reading reference sizes: 00:00:01\n",
      "Calculating joined length\n",
      "Writing header\n",
      "Reserving space for joined string\n",
      "Joining reference sequences\n",
      "  Time to join reference sequences: 00:00:00\n",
      "  Time to read SNPs and splice sites: 00:00:00\n",
      "Using parameters --bmax 2279457 --dcv 1024\n",
      "  Doing ahead-of-time memory usage test\n",
      "  Passed!  Constructing with these parameters: --bmax 2279457 --dcv 1024\n",
      "Constructing suffix-array element generator\n",
      "Converting suffix-array elements to index image\n",
      "Allocating ftab, absorbFtab\n",
      "Entering GFM loop\n",
      "Exited GFM loop\n",
      "fchr[A]: 0\n",
      "fchr[C]: 3766349\n",
      "fchr[G]: 6086925\n",
      "fchr[T]: 8404025\n",
      "fchr[$]: 12157105\n",
      "Exiting GFM::buildToDisk()\n",
      "Returning from initFromVector\n",
      "Wrote 8248111 bytes to primary GFM file: genome.1.ht2\n",
      "Wrote 3039284 bytes to secondary GFM file: genome.2.ht2\n",
      "Re-opening _in1 and _in2 as input streams\n",
      "Returning from GFM constructor\n",
      "Returning from initFromVector\n",
      "Wrote 5399069 bytes to primary GFM file: genome.5.ht2\n",
      "Wrote 3092708 bytes to secondary GFM file: genome.6.ht2\n",
      "Re-opening _in5 and _in5 as input streams\n",
      "Returning from HierEbwt constructor\n",
      "Headers:\n",
      "    len: 12157105\n",
      "    gbwtLen: 12157106\n",
      "    nodes: 12157106\n",
      "    sz: 3039277\n",
      "    gbwtSz: 3039277\n",
      "    lineRate: 6\n",
      "    offRate: 4\n",
      "    offMask: 0xfffffff0\n",
      "    ftabChars: 10\n",
      "    eftabLen: 0\n",
      "    eftabSz: 0\n",
      "    ftabLen: 1048577\n",
      "    ftabSz: 4194308\n",
      "    offsLen: 759820\n",
      "    offsSz: 3039280\n",
      "    lineSz: 64\n",
      "    sideSz: 64\n",
      "    sideGbwtSz: 48\n",
      "    sideGbwtLen: 192\n",
      "    numSides: 63319\n",
      "    numLines: 63319\n",
      "    gbwtTotLen: 4052416\n",
      "    gbwtTotSz: 4052416\n",
      "    reverse: 0\n",
      "    linearFM: Yes\n",
      "Total time for call to driver() for forward index: 00:00:13\n"
     ]
    }
   ],
   "source": [
    "%%bash\n",
    "cd yeast_index\n",
    "ENSEMBL_RELEASE=84\n",
    "ENSEMBL_YEAST_BASE=ftp://ftp.ensembl.org/pub/release-${ENSEMBL_RELEASE}/fasta/saccharomyces_cerevisiae/dna/\n",
    "F=Saccharomyces_cerevisiae.R64-1-1.dna.toplevel.fa\n",
    "\n",
    "if [ ! -f $F ] ; then\n",
    "\twget ${ENSEMBL_YEAST_BASE}/$F.gz || (echo \"Error getting $F\" && exit 1)\n",
    "\tgunzip $F.gz || (echo \"Error unzipping $F\" && exit 1)\n",
    "\tmv $F genome.fa\n",
    "fi\n",
    "\n",
    "CMD=\"hisat2-build genome.fa genome\" \n",
    "echo Running $CMD\n",
    "if $CMD ; then\n",
    "\techo \"genome index built; you may remove fasta files\"\n",
    "else\n",
    "\techo \"Index building failed; see error message\"\n",
    "fi\n",
    "\n",
    "rm genome.fa"
   ]
  },
  {
   "cell_type": "code",
   "execution_count": 8,
   "metadata": {
    "collapsed": false
   },
   "outputs": [
    {
     "name": "stdout",
     "output_type": "stream",
     "text": [
      "mkdir: test: File exists\r\n"
     ]
    }
   ],
   "source": [
    "!mkdir test"
   ]
  },
  {
   "cell_type": "markdown",
   "metadata": {},
   "source": [
    "Align the RNA-Seq samples using Hisat.\n",
    "\n",
    "This step will most likely take several hours. "
   ]
  },
  {
   "cell_type": "code",
   "execution_count": 9,
   "metadata": {
    "collapsed": false
   },
   "outputs": [
    {
     "name": "stdout",
     "output_type": "stream",
     "text": [
      "HISAT2 summary stats:\n",
      "\tTotal reads: 33563046\n",
      "\t\tAligned 0 time: 1473821 (4.39%)\n",
      "\t\tAligned 1 time: 29235871 (87.11%)\n",
      "\t\tAligned >1 times: 2853354 (8.50%)\n",
      "\tOverall alignment rate: 95.61%\n",
      "HISAT2 summary stats:\n",
      "\tTotal reads: 16765855\n",
      "\t\tAligned 0 time: 585390 (3.49%)\n",
      "\t\tAligned 1 time: 14724554 (87.82%)\n",
      "\t\tAligned >1 times: 1455911 (8.68%)\n",
      "\tOverall alignment rate: 96.51%\n"
     ]
    }
   ],
   "source": [
    "for index, individual in enumerate(RNASeqoutrun):\n",
    "    run = RNASeqoutrun[index]\n",
    "    summary = RNASeqoutputAlignmentSummary[index] \n",
    "    metrics = RNASeqoutputMetrics[index]\n",
    "    sam = RNASeqoutputSam[index]\n",
    "    bam = RNASeqoutputSortBam[index]\n",
    "    !hisat2 -x yeast_index/genome --sra-acc $run --new-summary --summary-file $summary --met-file $metrics -S $sam"
   ]
  },
  {
   "cell_type": "markdown",
   "metadata": {},
   "source": [
    "### 3B. Samtools \n",
    "\n",
    "We'll use samtools to sort the output files and convert them to bam files.\n",
    "\n",
    "Sort the output files and convert them to bam files. "
   ]
  },
  {
   "cell_type": "code",
   "execution_count": 10,
   "metadata": {
    "collapsed": false
   },
   "outputs": [
    {
     "name": "stdout",
     "output_type": "stream",
     "text": [
      "[bam_sort_core] merging from 9 files and 1 in-memory blocks...\n",
      "[bam_sort_core] merging from 4 files and 1 in-memory blocks...\n"
     ]
    }
   ],
   "source": [
    "for index, individual in enumerate(RNASeqoutrun):\n",
    "    run = RNASeqoutrun[index]\n",
    "    summary = RNASeqoutputAlignmentSummary[index] \n",
    "    metrics = RNASeqoutputMetrics[index]\n",
    "    sam = RNASeqoutputSam[index]\n",
    "    bam = RNASeqoutputSortBam[index]\n",
    "    !samtools view -bSF4 $sam | samtools sort -o $bam\n",
    "    "
   ]
  },
  {
   "cell_type": "markdown",
   "metadata": {},
   "source": [
    "Do the same thing for ChIP-Seq samples."
   ]
  },
  {
   "cell_type": "code",
   "execution_count": 11,
   "metadata": {
    "collapsed": false
   },
   "outputs": [
    {
     "name": "stdout",
     "output_type": "stream",
     "text": [
      "HISAT2 summary stats:\n",
      "\tTotal pairs: 62112216\n",
      "\t\tAligned concordantly or discordantly 0 time: 7584037 (12.21%)\n",
      "\t\tAligned concordantly 1 time: 45933758 (73.95%)\n",
      "\t\tAligned concordantly >1 times: 8192108 (13.19%)\n",
      "\t\tAligned discordantly 1 time: 402313 (0.65%)\n",
      "\tTotal unpaired reads: 15168074\n",
      "\t\tAligned 0 time: 10384129 (68.46%)\n",
      "\t\tAligned 1 time: 3892781 (25.66%)\n",
      "\t\tAligned >1 times: 891164 (5.88%)\n",
      "\tOverall alignment rate: 91.64%\n",
      "HISAT2 summary stats:\n",
      "\tTotal pairs: 67700726\n",
      "\t\tAligned concordantly or discordantly 0 time: 9143267 (13.51%)\n",
      "\t\tAligned concordantly 1 time: 51589975 (76.20%)\n",
      "\t\tAligned concordantly >1 times: 6727110 (9.94%)\n",
      "\t\tAligned discordantly 1 time: 240374 (0.36%)\n",
      "\tTotal unpaired reads: 18286534\n",
      "\t\tAligned 0 time: 14462398 (79.09%)\n",
      "\t\tAligned 1 time: 3319323 (18.15%)\n",
      "\t\tAligned >1 times: 504813 (2.76%)\n",
      "\tOverall alignment rate: 89.32%\n"
     ]
    }
   ],
   "source": [
    "for index, individual in enumerate(ChIPSeqoutrun):\n",
    "    run = ChIPSeqoutrun[index]\n",
    "    summary = ChIPSeqoutputAlignmentSummary[index] \n",
    "    metrics = ChIPSeqoutputMetrics[index]\n",
    "    sam = ChIPSeqoutputSam[index]\n",
    "    bam = ChIPSeqoutputSortBam[index]\n",
    "    index = \"yeast_index/genome\"\n",
    "    !hisat2 -p 2 -x $index --sra-acc $run --new-summary --summary-file $summary --met-file $metrics -S $sam"
   ]
  },
  {
   "cell_type": "code",
   "execution_count": 12,
   "metadata": {
    "collapsed": false
   },
   "outputs": [
    {
     "name": "stdout",
     "output_type": "stream",
     "text": [
      "[bam_sort_core] merging from 46 files and 1 in-memory blocks...\n",
      "[bam_sort_core] merging from 47 files and 1 in-memory blocks...\n",
      "[E::bgzf_flush] File write failed (wrong size)\n",
      "samtools sort: failed writing to \"test/SRR6703661.sorted.bam\": No space left on device\n",
      "[E::bgzf_close] File write failed\n"
     ]
    }
   ],
   "source": [
    "for index, individual in enumerate(ChIPSeqoutrun):\n",
    "    run = ChIPSeqoutrun[index]\n",
    "    summary = ChIPSeqoutputAlignmentSummary[index] \n",
    "    metrics = ChIPSeqoutputMetrics[index]\n",
    "    sam = ChIPSeqoutputSam[index]\n",
    "    bam = ChIPSeqoutputSortBam[index]\n",
    "    !samtools view -bSF4 $sam | samtools sort -o $bam"
   ]
  },
  {
   "cell_type": "markdown",
   "metadata": {},
   "source": [
    "### 3C. MultiQC\n",
    "\n",
    "This section details quality control checks on the read data from either RNAseq or ChIPseq data using MultiQC. MultiQC takes all output and log files from an alignment software program and aggregates the information from all samples into one convenient report (html by default).\n",
    "\n",
    "MultiQC was installed earlier in the tutorial, so all we need to do is run it on the data."
   ]
  },
  {
   "cell_type": "markdown",
   "metadata": {},
   "source": [
    "MultiQC is configured to run the same no matter what type of sequencing data is available, therefore the same command can be used to analyze either our RNAseq data or our ChIPseq data.  We include the option 'hisat_output' since we are aligning using the HISAT2 program.  See http://multiqc.info/docs/ for more information."
   ]
  },
  {
   "cell_type": "markdown",
   "metadata": {},
   "source": [
    "We use the 'hisat_output' option because we are analyzing data downloaded and aligned using the HISAT2 program.  We use the '--force' option to overwrite any previous versions of the multiqc_report.  '--quiet' only shows log warnings."
   ]
  },
  {
   "cell_type": "code",
   "execution_count": null,
   "metadata": {
    "collapsed": true
   },
   "outputs": [],
   "source": [
    "!multiqc \"\".join(RNASeqoutrun) --quiet --outdir test/multiqc_rnaseq --force\n",
    "!multiqc \"\".join(ChIPSeqoutrun) --quiet --outdir test/multiqc_chipseq --force"
   ]
  },
  {
   "cell_type": "markdown",
   "metadata": {},
   "source": [
    "# 4. ChIP-Seq Analysis\n",
    "### 4A. MACS (Model-based Analysis for ChIP-Seq)\n",
    "\n",
    "Peak-calling is one of the main steps scientists use in determining the locations where protein is bound in DNA. Peak detection software, such as MACS (Model-Based Analysis for ChIP-Seq), call peaks using the aligned sequecnes as input and returns precise locations of predicted peaks as output. In this tutorial, we'll use MACS.\n",
    "\n",
    "More information about MACS: http://liulab.dfci.harvard.edu/MACS/Download.html"
   ]
  },
  {
   "cell_type": "code",
   "execution_count": null,
   "metadata": {
    "collapsed": true
   },
   "outputs": [],
   "source": [
    "ChIPSeqControl = ChIPSeqSRATable.loc[ChIPSeqSRATable[\"source_name\"] == \"Untreated\"][\"Run\"].astype(list)\n",
    "ChIPSeqTreatment = ChIPSeqSRATable.loc[ChIPSeqSRATable[\"source_name\"] != \"Untreated\"][\"Run\"].astype(list)\n",
    "\n",
    "print(\"Control sample \" + ChIPSeqControl)\n",
    "print(\"Treatment sample \" + ChIPSeqTreatment)"
   ]
  },
  {
   "cell_type": "code",
   "execution_count": null,
   "metadata": {
    "collapsed": true
   },
   "outputs": [],
   "source": [
    "for index, individual in enumerate(ChIPSeqControl):\n",
    "    outputdirectory = \"test/\" + ChIPSeqTreatment.iloc[index]\n",
    "    name = ChIPSeqTreatment.iloc[index]\n",
    "    immunoprecipitate = \"test/\" + ChIPSeqTreatment.iloc[index] + \".sorted.bam\"\n",
    "    control = \"test/\" + ChIPSeqControl.iloc[index] + \".sorted.bam\"\n",
    "    !macs2 callpeak -c $control -t $immunoprecipitate -n $name --outdir $outputdirectory"
   ]
  },
  {
   "cell_type": "markdown",
   "metadata": {},
   "source": [
    "For an in-depth discussion of what MACS2 does: https://github.com/taoliu/MACS/wiki/Advanced:-Call-peaks-using-MACS2-subcommands"
   ]
  },
  {
   "cell_type": "markdown",
   "metadata": {},
   "source": [
    "### 4B. Bedtools\n",
    "\n",
    "In this tutorial, we'll use Bedtools to extract the intersecting regions of the MACS output between the experimental conditions.\n",
    "\n",
    "The Bedtools suite of programs is widely used for genomic interval manipulation or \"genome algebra\". \n",
    "\n",
    "First we'll sort the output. The following line uses the `sort` command to sort the MACS output."
   ]
  },
  {
   "cell_type": "code",
   "execution_count": null,
   "metadata": {
    "collapsed": true
   },
   "outputs": [],
   "source": [
    "for index, individual in enumerate(ChIPSeqTreatment):\n",
    "    macs_output = \"test/\" + name + \"/\" + name + \"_peaks.narrowPeak\"\n",
    "    sort = \"test/\" + name + \"/\" + name + \"_peaks.narrowPeak.sorted\"\n",
    "    !sort -k 1,1 -k2,2n $macs_output > $sort"
   ]
  },
  {
   "cell_type": "markdown",
   "metadata": {},
   "source": [
    "Then we'll find the intersecting regions between the different experimental conditions."
   ]
  },
  {
   "cell_type": "code",
   "execution_count": null,
   "metadata": {
    "collapsed": true
   },
   "outputs": [],
   "source": [
    "!bedtools intersect -a test/SRR6703661/SRR6703661_peaks.narrowPeak.sorted -b test/SRR6703663/SRR6703663_peaks.narrowPeak.sorted -u > test/ChIPSeqintersect.bed"
   ]
  },
  {
   "cell_type": "markdown",
   "metadata": {},
   "source": [
    "### 4C. Integrative Genomics Viewer\n",
    "\n",
    "A BAM file viewer will allow you to see your reads in an interactive graphical display. There are many different viewers available such as UCSC Genome Browser, Integrative Genomics Viewer (IGV), and NCBI Genome Workbench.\n",
    "\n",
    "To load .bam files please first do the following:\n",
    "\n",
    "Transfer the data to your computer. Amazon provides documentation on copying files with scp (Linux, OSX) and WinSCP (Windows). \n",
    "\n",
    "For scp, the command will be approximately: scp ubuntu@your-instance-name-or-ip-address:/home/ubuntu/data/transcript.fa\n",
    "\n",
    "Load annotation in IGV\n",
    "File -> Load from File ... -> ChIPSeqintersect.bed"
   ]
  },
  {
   "cell_type": "markdown",
   "metadata": {},
   "source": [
    "# 5. RNA-Seq\n",
    "## 5A. HTSeq (High-through sequencing)\n",
    "\n",
    "HTSeq is a Python library to facilitate the rapid development of RNA-Seq analysis. HTSeq offers parsers for many common data formats in HTS projects, as well as classes to represent data, such as genomic coordinates, sequences, sequencing reads, alignments, gene model information and variant calls, and provides data structures that allow for querying via genomic coordinates. In this tutorial we will use htseq-count, a tool developed with HTSeq that preprocesses RNA-Seq data for differential expression analysis by counting the overlap of reads with genes."
   ]
  },
  {
   "cell_type": "code",
   "execution_count": null,
   "metadata": {
    "collapsed": true
   },
   "outputs": [],
   "source": [
    "from pandas import read_csv\n",
    "\n",
    "gtf = \"data/Saccharomyces_cerevisiae.R64-1-1.84.gtf\"\n",
    "\n",
    "RNASeqSRARunTableFile='data/RNASeqSRA.tsv'\n",
    "RNASeqSRATable = read_csv(RNASeqSRARunTableFile, delimiter='\\t')\n",
    "RNASeqoutrun = (RNASeqSRATable[\"Run\"]).astype(list)\n",
    "RNASeqoutputSortBam = \"test/\" + RNASeqoutrun + \".sorted.bam\""
   ]
  },
  {
   "cell_type": "code",
   "execution_count": null,
   "metadata": {
    "collapsed": true
   },
   "outputs": [],
   "source": [
    "for index, individual in enumerate(RNASeqoutputSortBam):\n",
    "    input = individual\n",
    "    output = individual + \".genecount.txt\"\n",
    "    !htseq-count -m intersection-nonempty -s no -f bam $input $gtf > $output"
   ]
  },
  {
   "cell_type": "markdown",
   "metadata": {},
   "source": [
    "### 5B. DESeq (Differential Expression Sequencing)\n",
    "\n",
    "Estimate variance-mean dependence in count data from high-throughput sequencing assays and test for differential expression based on a model using the negative binomial distribution"
   ]
  },
  {
   "cell_type": "code",
   "execution_count": null,
   "metadata": {
    "collapsed": true
   },
   "outputs": [],
   "source": [
    "!Rscript scripts/runDeseq.R"
   ]
  },
  {
   "cell_type": "markdown",
   "metadata": {},
   "source": [
    "### 5C. Visualization\n",
    "\n",
    "The following script performs principal component analysis and creates volcano plots and bar graphs of RNA-Seq expression."
   ]
  },
  {
   "cell_type": "code",
   "execution_count": null,
   "metadata": {
    "collapsed": true
   },
   "outputs": [],
   "source": [
    "!Rscript scripts/loadYeastGeneCounts.R"
   ]
  }
 ],
 "metadata": {
  "kernelspec": {
   "display_name": "Python 3",
   "language": "python",
   "name": "python3"
  },
  "language_info": {
   "codemirror_mode": {
    "name": "ipython",
    "version": 3
   },
   "file_extension": ".py",
   "mimetype": "text/x-python",
   "name": "python",
   "nbconvert_exporter": "python",
   "pygments_lexer": "ipython3",
   "version": "3.6.0"
  }
 },
 "nbformat": 4,
 "nbformat_minor": 2
}
