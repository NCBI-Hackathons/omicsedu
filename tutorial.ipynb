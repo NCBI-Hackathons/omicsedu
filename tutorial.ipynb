{
 "cells": [
  {
   "cell_type": "markdown",
   "metadata": {},
   "source": [
    "# SeqAcademy Multiomics Tutorial\n",
    "\n",
    "# Contents\n",
    "1. Installation\n",
    "    1. Set up channels\n",
    "    2. Create an environment and install the packages\n",
    "2. Alignment\n",
    "    1. HISAT \n",
    "    2. Samtools\n",
    "    3. MultiQC\n",
    "3. ChIP-Seq\n",
    "    1. MACS\n",
    "    2. Bedtools\n",
    "    3. IGV\n",
    "4. RNA-Seq\n",
    "    1. HTSeq\n",
    "    2. DESeq\n",
    "    3. Visualization"
   ]
  },
  {
   "cell_type": "markdown",
   "metadata": {},
   "source": [
    "# Installation\n",
    "\n",
    "Before running any programs, we'll make sure that each software is installed correctly. This tutorial uses Bioconda (https://bioconda.github.io/). Bioconda is a channel for the conda package manager specializing in bioinformatics software. The available packages are listed here: https://bioconda.github.io/recipes.html#recipes."
   ]
  },
  {
   "cell_type": "markdown",
   "metadata": {},
   "source": [
    "## Set up channels\n",
    "\n",
    "You will need to add the bioconda channel as well as the other channels bioconda depends on. It is important to add them in this order so that the priority is set correctly (that is, bioconda is highest priority).\n",
    "\n",
    "The conda-forge channel contains many general-purpose packages not already found in the defaults channel. The r channel is only included due to backward compatibility. It is not mandatory, but without the r channel packages compiled against R 3.3.1 might not work."
   ]
  },
  {
   "cell_type": "markdown",
   "metadata": {},
   "source": [
    "This tutorial uses cells written in python and unix to perform its analyses. Lines that are written in unix are prefixed by an exclamation point. \n",
    "\n",
    "Select the following cell and run it. To run a cell, select the cell, click \"Cell\" the upper taskbar, and select \"Run Cells\". Or click the cell and press shift + enter.\n",
    "\n",
    "Alternatively, the contents of any cell may be copy+pasted into the terminal emulator to run."
   ]
  },
  {
   "cell_type": "code",
   "execution_count": null,
   "metadata": {},
   "outputs": [
    {
     "name": "stdout",
     "output_type": "stream",
     "text": [
      "Warning: 'defaults' already in 'channels' list, moving to the top\n",
      "Warning: 'conda-forge' already in 'channels' list, moving to the top\n",
      "Warning: 'bioconda' already in 'channels' list, moving to the top\n"
     ]
    }
   ],
   "source": [
    "!conda config --add channels defaults\n",
    "!conda config --add channels conda-forge\n",
    "!conda config --add channels bioconda"
   ]
  },
  {
   "cell_type": "markdown",
   "metadata": {},
   "source": [
    "## Create an environment and install the packages\n",
    "\n",
    "In this tutorial we will create an environment named \"tutorial\" and install the packages in there. Environments offer ways of installing packages in specific environments so they can be managed and run for different specifications. You can create, export, list, remove and update environments that have different versions of Python and/or packages installed in them. Switching or moving between environments is called activating the environment. You can also share an environment file.\n",
    "\n",
    "This command will create an environment \"tutorial\" in which to install the packages used in this tutorial.\n",
    "\n",
    "Run the following commands to create the environment. When it asks if you want to proceed, type \"y\" and press enter.\n",
    "\n",
    "This will most likely take 10-15 minutes."
   ]
  },
  {
   "cell_type": "code",
   "execution_count": null,
   "metadata": {},
   "outputs": [
    {
     "name": "stdout",
     "output_type": "stream",
     "text": [
      "Fetching package metadata ...........\n",
      "Solving package specifications: .\n",
      "\n",
      "Package plan for installation in environment /data/Lei_student/Hussain/miniconda/envs/tutorial:\n",
      "\n",
      "The following NEW packages will be INSTALLED:\n",
      "\n",
      "    asn1crypto:                    0.24.0-py27_0               conda-forge\n",
      "    backports:                     1.0-py27_1                  conda-forge\n",
      "    backports.functools_lru_cache: 1.5-py27_0                  conda-forge\n",
      "    backports_abc:                 0.5-py27_0                  conda-forge\n",
      "    bcftools:                      1.8-1                       bioconda   \n",
      "    bedtools:                      2.27.1-1                    bioconda   \n",
      "    bioconductor-annotate:         1.56.0-r3.4.1_0             bioconda   \n",
      "    bioconductor-annotationdbi:    1.40.0-r3.4.1_0             bioconda   \n",
      "    bioconductor-biobase:          2.38.0-r3.4.1_0             bioconda   \n",
      "    bioconductor-biocgenerics:     0.24.0-r3.4.1_0             bioconda   \n",
      "    bioconductor-biocparallel:     1.12.0-r3.4.1_0             bioconda   \n",
      "    bioconductor-biostrings:       2.46.0-r3.4.1_0             bioconda   \n",
      "    bioconductor-deseq:            1.30.0-r3.4.1_0             bioconda   \n",
      "    bioconductor-genefilter:       1.60.0-r3.4.1_0             bioconda   \n",
      "    bioconductor-geneplotter:      1.56.0-r3.4.1_0             bioconda   \n",
      "    bioconductor-genomeinfodb:     1.14.0-r3.4.1_0             bioconda   \n",
      "    bioconductor-genomeinfodbdata: 1.0.0-r3.4.1_1              bioconda   \n",
      "    bioconductor-genomicranges:    1.30.3-r3.4.1_0             bioconda   \n",
      "    bioconductor-iranges:          2.12.0-r3.4.1_0             bioconda   \n",
      "    bioconductor-rsamtools:        1.30.0-r3.4.1_0             bioconda   \n",
      "    bioconductor-s4vectors:        0.16.0-r3.4.1_0             bioconda   \n",
      "    bioconductor-xvector:          0.18.0-r3.4.1_0             bioconda   \n",
      "    bioconductor-zlibbioc:         1.24.0-r3.4.1_0             bioconda   \n",
      "    brewer2mpl:                    1.4.1-py27_2                conda-forge\n",
      "    bzip2:                         1.0.6-1                     conda-forge\n",
      "    ca-certificates:               2018.4.16-0                 conda-forge\n",
      "    cairo:                         1.14.10-0                   conda-forge\n",
      "    certifi:                       2018.4.16-py27_0            conda-forge\n",
      "    cffi:                          1.11.5-py27_0               conda-forge\n",
      "    chardet:                       3.0.4-py27_0                conda-forge\n",
      "    click:                         6.7-py_1                    conda-forge\n",
      "    colormath:                     3.0.0-py_2                  conda-forge\n",
      "    cryptography:                  2.2.1-py27_0                conda-forge\n",
      "    curl:                          7.59.0-1                    conda-forge\n",
      "    cycler:                        0.10.0-py27_0               conda-forge\n",
      "    dbus:                          1.10.22-0                   conda-forge\n",
      "    decorator:                     4.3.0-py_0                  conda-forge\n",
      "    enum34:                        1.1.6-py27_1                conda-forge\n",
      "    expat:                         2.2.5-0                     conda-forge\n",
      "    fontconfig:                    2.12.6-0                    conda-forge\n",
      "    freetype:                      2.8.1-0                     conda-forge\n",
      "    functools32:                   3.2.3.2-py27_2              conda-forge\n",
      "    future:                        0.16.0-py27_0               conda-forge\n",
      "    futures:                       3.2.0-py27_0                conda-forge\n",
      "    gettext:                       0.19.8.1-0                  conda-forge\n",
      "    ggplot:                        0.6.8-py27_0                bioconda   \n",
      "    glib:                          2.55.0-0                    conda-forge\n",
      "    graphite2:                     1.3.11-0                    conda-forge\n",
      "    gsl:                           2.1-2                       conda-forge\n",
      "    gst-plugins-base:              1.8.0-0                     conda-forge\n",
      "    gstreamer:                     1.8.0-1                     conda-forge\n",
      "    harfbuzz:                      1.7.6-0                     conda-forge\n",
      "    hisat2:                        2.1.0-py27pl5.22.0_0        bioconda   \n",
      "    htseq:                         0.9.1-py27_0                bioconda   \n",
      "    htslib:                        1.8-1                       bioconda   \n",
      "    icu:                           58.2-0                      conda-forge\n",
      "    idna:                          2.6-py27_1                  conda-forge\n",
      "    ipaddress:                     1.0.22-py_1                 conda-forge\n",
      "    jinja2:                        2.10-py27_0                 conda-forge\n",
      "    jpeg:                          9b-2                        conda-forge\n",
      "    kiwisolver:                    1.0.1-py27_1                conda-forge\n",
      "    krb5:                          1.14.6-0                    conda-forge\n",
      "    libdeflate:                    0.8-0                       bioconda   \n",
      "    libffi:                        3.2.1-3                     conda-forge\n",
      "    libgcc:                        5.2.0-0                                \n",
      "    libgfortran:                   3.0.0-1                                \n",
      "    libiconv:                      1.15-0                      conda-forge\n",
      "    libpng:                        1.6.34-0                    conda-forge\n",
      "    libssh2:                       1.8.0-2                     conda-forge\n",
      "    libtiff:                       4.0.9-0                     conda-forge\n",
      "    libxcb:                        1.13-0                      conda-forge\n",
      "    libxml2:                       2.9.8-0                     conda-forge\n",
      "    lzstring:                      1.0.3-py27_0                conda-forge\n",
      "    macs2:                         2.1.1.20160309-py27r3.4.1_0 bioconda   \n",
      "    markdown:                      2.6.11-py_0                 conda-forge\n",
      "    markupsafe:                    1.0-py27_0                  conda-forge\n",
      "    matplotlib:                    2.2.2-py27_1                conda-forge\n",
      "    mkl:                           2017.0.3-0                             \n",
      "    multiqc:                       1.5a-py27_0                 bioconda   \n",
      "    ncurses:                       5.9-10                      conda-forge\n",
      "    networkx:                      2.0-py27_1                  conda-forge\n",
      "    numpy:                         1.13.1-py27_0                          \n",
      "    openssl:                       1.0.2o-0                    conda-forge\n",
      "    pandas:                        0.22.0-py27_0               conda-forge\n",
      "    pango:                         1.40.14-0                   conda-forge\n",
      "    patsy:                         0.5.0-py27_0                conda-forge\n",
      "    pcre:                          8.39-0                      conda-forge\n",
      "    perl:                          5.22.0.1-0                  conda-forge\n",
      "    pip:                           9.0.3-py27_0                conda-forge\n",
      "    pixman:                        0.34.0-1                    conda-forge\n",
      "    pycparser:                     2.18-py27_0                 conda-forge\n",
      "    pyopenssl:                     17.5.0-py27_1               conda-forge\n",
      "    pyparsing:                     2.2.0-py27_0                conda-forge\n",
      "    pyqt:                          5.6.0-py27_5                conda-forge\n",
      "    pysam:                         0.11.2.2-py27_1             bioconda   \n",
      "    pysocks:                       1.6.8-py27_1                conda-forge\n",
      "    python:                        2.7.14-5                    conda-forge\n",
      "    python-dateutil:               2.3-py27_0                  bioconda   \n",
      "    pytz:                          2018.4-py_0                 conda-forge\n",
      "    pyyaml:                        3.12-py27_1                 conda-forge\n",
      "    qt:                            5.6.2-7                     conda-forge\n",
      "    r-base:                        3.4.1-3                     conda-forge\n",
      "    r-bh:                          1.66.0_1-r3.4.1_0           conda-forge\n",
      "    r-bitops:                      1.0_6-r3.4.1_0              conda-forge\n",
      "    r-dbi:                         0.8-r3.4.1_0                conda-forge\n",
      "    r-digest:                      0.6.12-r3.4.1_0             conda-forge\n",
      "    r-futile.logger:               1.4.3-r3.4.1_0              conda-forge\n",
      "    r-futile.options:              1.0.0-r3.4.1_0              conda-forge\n",
      "    r-lambda.r:                    1.2-r3.4.1_0                conda-forge\n",
      "    r-lattice:                     0.20_34-r3.4.1_0            conda-forge\n",
      "    r-locfit:                      1.5_9.1-r3.4.1_0            conda-forge\n",
      "    r-mass:                        7.3_48-r3.4.1_0             conda-forge\n",
      "    r-matrix:                      1.2_12-r3.4.1_0             conda-forge\n",
      "    r-memoise:                     1.1.0-r3.4.1_0              conda-forge\n",
      "    r-plogr:                       0.1_1-r3.4.1_0              conda-forge\n",
      "    r-rcolorbrewer:                1.1_2-r3.4.1_0              conda-forge\n",
      "    r-rcpp:                        0.12.15-r3.4.1_0            conda-forge\n",
      "    r-rcurl:                       1.95_4.8-r3.4.1_0           conda-forge\n",
      "    r-rsqlite:                     1.1_2-r3.4.1_0              conda-forge\n",
      "    r-snow:                        0.4_2-r3.4.1_0              conda-forge\n",
      "    r-survival:                    2.40_1-r3.4.1_0             conda-forge\n",
      "    r-xml:                         3.98_1.6-r3.4.1_0           conda-forge\n",
      "    r-xtable:                      1.8_2-r3.4.1_0              conda-forge\n",
      "    readline:                      7.0-0                       conda-forge\n",
      "    requests:                      2.18.4-py27_1               conda-forge\n",
      "    samtools:                      1.8-3                       bioconda   \n",
      "    scipy:                         0.19.1-np113py27_0                     \n",
      "    setuptools:                    39.0.1-py27_0               conda-forge\n",
      "    simplejson:                    3.8.1-py27_0                bioconda   \n",
      "    singledispatch:                3.4.0.3-py27_0              conda-forge\n",
      "    sip:                           4.18-py27_1                 conda-forge\n",
      "    six:                           1.11.0-py27_1               conda-forge\n",
      "    spectra:                       0.0.11-py_0                 conda-forge\n",
      "    sqlite:                        3.20.1-2                    conda-forge\n",
      "    statsmodels:                   0.8.0-py27_0                conda-forge\n",
      "    subprocess32:                  3.2.7-py27_0                conda-forge\n",
      "    tk:                            8.6.7-0                     conda-forge\n",
      "    tornado:                       5.0.2-py27_0                conda-forge\n",
      "    urllib3:                       1.22-py27_0                 conda-forge\n",
      "    wget:                          1.18-0                                 \n",
      "    wheel:                         0.31.0-py27_0               conda-forge\n",
      "    xorg-libxau:                   1.0.8-3                     conda-forge\n",
      "    xorg-libxdmcp:                 1.1.2-3                     conda-forge\n",
      "    xz:                            5.2.3-0                     conda-forge\n",
      "    yaml:                          0.1.7-0                     conda-forge\n",
      "    zlib:                          1.2.11-0                    conda-forge\n",
      "\n"
     ]
    },
    {
     "name": "stdout",
     "output_type": "stream",
     "text": [
      "ca-certificate 100% |################################| Time: 0:00:00   2.02 MB/s\n",
      "krb5-1.14.6-0. 100% |################################| Time: 0:00:00   6.35 MB/s#                             | Time: 0:00:00   5.71 MB/s MB/s       | Time: 0:00:00   5.43 MB/s  5.56 MB/s             | Time: 0:00:00   5.67 MB/s00:00   5.76 MB/s##                 | Time: 0:00:00   5.84 MB/sme: 0:00:00   5.97 MB/s########################       | Time: 0:00:00   6.21 MB/s3 MB/s93% |#############################   | Time: 0:00:00   6.32 MB/s\n",
      "libdeflate-0.8 100% |################################| Time: 0:00:00   7.89 MB/s\n",
      "openssl-1.0.2o 100% |################################| Time: 0:00:00  10.14 MB/s | Time: 0:00:00   9.12 MB/s MB/s  9.10 MB/s.2o  44% |##############                  | Time: 0:00:00   9.25 MB/s####               | Time: 0:00:00   9.20 MB/s################         | Time: 0:00:00   9.68 MB/s###########################    | Time: 0:00:00  10.03 MB/s\n",
      "curl-7.59.0-1. 100% |################################| Time: 0:00:00  13.51 MB/s MB/s\n",
      "python-2.7.14- 100% |################################| Time: 0:00:00  18.70 MB/s       | Time: 0:00:00  14.32 MB/s             | Time: 0:00:00  14.79 MB/sn-2.7.14-  15% |#####                           | Time: 0:00:00  15.03 MB/s  | Time: 0:00:00  15.19 MB/s27% |########                        | Time: 0:00:00  15.52 MB/s                    | Time: 0:00:00  15.92 MB/ss 47% |###############                 | Time: 0:00:00  16.49 MB/s######               | Time: 0:00:00  16.91 MB/s/s00  17.46 MB/s Time: 0:00:00  17.92 MB/s8.28 MB/s: 0:00:00  18.70 MB/s\n",
      "bcftools-1.8-1 100% |################################| Time: 0:00:00  19.86 MB/s5% |###########                     | Time: 0:00:00  14.85 MB/s#########          | Time: 0:00:00  16.42 MB/s\n",
      "certifi-2018.4 100% |################################| Time: 0:00:00  21.55 MB/s\n",
      "decorator-4.3. 100% |################################| Time: 0:00:00   7.02 MB/s\n",
      "hisat2-2.1.0-p 100% |################################| Time: 0:00:00  30.90 MB/s6% |#                               | Time: 0:00:00  26.75 MB/sme: 0:00:00  27.47 MB/s23% |#######                         | Time: 0:00:00  27.99 MB/s####                      | Time: 0:00:00  28.46 MB/s0  28.66 MB/s/s.1.0-p  61% |###################             | Time: 0:00:00  29.70 MB/s0.16 MB/sisat2-2.1.0-p  81% |##########################      | Time: 0:00:00  30.44 MB/s-p  91% |#############################   | Time: 0:00:00  30.74 MB/s\n",
      "htslib-1.8-1.t 100% |################################| Time: 0:00:00  29.41 MB/s\n",
      "ipaddress-1.0. 100% |################################| Time: 0:00:00   6.96 MB/s\n",
      "pytz-2018.4-py 100% |################################| Time: 0:00:00  19.17 MB/s\n",
      "samtools-1.8-3 100% |################################| Time: 0:00:00  29.85 MB/s7% |##################              | Time: 0:00:00  28.09 MB/s\n",
      "cffi-1.11.5-py 100% |################################| Time: 0:00:00  28.31 MB/s\n",
      "harfbuzz-1.7.6 100% |################################| Time: 0:00:00  27.54 MB/s7% |#####                           | Time: 0:00:00  28.37 MB/s                   | Time: 0:00:00  25.06 MB/s0 MB/s.7.6  78% |#########################       | Time: 0:00:00  23.77 MB/s\n",
      "pyqt-5.6.0-py2 100% |################################| Time: 0:00:00  33.82 MB/s                              | Time: 0:00:00  23.86 MB/spy2  30% |#########                       | Time: 0:00:00  26.11 MB/s  34.74 MB/s\n",
      "pysam-0.11.2.2 100% |################################| Time: 0:00:00  34.00 MB/s00:00  39.14 MB/s60% |###################             | Time: 0:00:00  37.75 MB/sime: 0:00:00  35.33 MB/s\n",
      "cryptography-2 100% |################################| Time: 0:00:00   8.42 MB/s | Time: 0:00:00   2.86 MB/s\n",
      "jinja2-2.10-py 100% |################################| Time: 0:00:00  18.35 MB/s\n",
      "networkx-2.0-p 100% |################################| Time: 0:00:00  37.05 MB/s######       | Time: 0:00:00  35.54 MB/s\n",
      "tornado-5.0.2- 100% |################################| Time: 0:00:00  20.78 MB/s##################            | Time: 0:00:00  21.42 MB/s\n",
      "wheel-0.31.0-p 100% |################################| Time: 0:00:00  13.25 MB/s\n",
      "matplotlib-2.2 100% |################################| Time: 0:00:00  38.41 MB/s                              | Time: 0:00:00  21.50 MB/s##                       | Time: 0:00:00  38.68 MB/s        | Time: 0:00:00  31.00 MB/s98 MB/sTime: 0:00:00  37.29 MB/s\n",
      "pip-9.0.3-py27 100% |################################| Time: 0:00:00  29.59 MB/s       | Time: 0:00:00  20.28 MB/s\n",
      "pyopenssl-17.5 100% |################################| Time: 0:00:00  13.49 MB/s\n",
      "htseq-0.9.1-py 100% |################################| Time: 0:00:00  21.31 MB/s       | Time: 0:00:00  22.72 MB/s\n",
      "macs2-2.1.1.20 100% |################################| Time: 0:00:00  22.51 MB/s.20  33% |##########                      | Time: 0:00:00  16.69 MB/s  | Time: 0:00:00  20.50 MB/s1.20  93% |#############################   | Time: 0:00:00  22.32 MB/s\n",
      "multiqc-1.5a-p 100% |################################| Time: 0:00:00  45.93 MB/s MB/s\n",
      "dbus post-link :: /etc/machine-id not found ..\n",
      "dbus post-link :: .. using /proc/sys/kernel/random/boot_id\n",
      "\n"
     ]
    }
   ],
   "source": [
    "!conda create -n tutorial hisat2 multiqc macs2 bioconductor-deseq matplotlib ggplot samtools bioconductor-rsamtools bedtools htseq  --yes"
   ]
  },
  {
   "cell_type": "markdown",
   "metadata": {},
   "source": [
    "Then activate the environment with the following command."
   ]
  },
  {
   "cell_type": "code",
   "execution_count": null,
   "metadata": {},
   "outputs": [],
   "source": [
    "# For Mac and Linux\n",
    "\n",
    "!source activate tutorial"
   ]
  },
  {
   "cell_type": "code",
   "execution_count": null,
   "metadata": {},
   "outputs": [],
   "source": [
    "# For Windows\n",
    "\n",
    "!activate tutorial"
   ]
  },
  {
   "cell_type": "markdown",
   "metadata": {},
   "source": [
    "# Alignment\n",
    "## HISAT (Hierarchical Indexing for Spliced Alignment of Transcripts)\n",
    "\n",
    "In this tutorial, we'll use Hisat to align the sample reads to a reference genome. Hisat automatically downloads and preprocesses the reads so they're ready to be aligned. Hisat (hierarchical indexing for spliced alignment of transcripts) is a highly efficient system for aligning reads from RNA sequencing experiments. HISAT uses an indexing scheme based on the Burrows-Wheeler transform and the Ferragina-Manzini (FM) index, employing two types of indexes for alignment: a whole-genome FM index to anchor each alignment and numerous local FM indexes for very rapid extensions of these alignments. HISAT’s hierarchical index for the human genome contains 48,000 local FM indexes, each representing a genomic region of ~64,000 bp."
   ]
  },
  {
   "cell_type": "markdown",
   "metadata": {},
   "source": [
    "The RNA-Seq data we'll use is from https://www.ncbi.nlm.nih.gov/Traces/study/?acc=SRP106028 and the ChIP-Seq data is from https://www.ncbi.nlm.nih.gov/Traces/study/?acc=SRP132584\n",
    "\n",
    "The model organism for this project is Yeast i.e. Saccharomyces cerevisiae. For RNA-Seq, yeast data between euploid and aneuoploid conditions will be compared. For ChIP-SEq, yeast data between 3AT-treated and untreated conditions will be compared.\n",
    "\n",
    "The following cell contains python code. \n",
    "\n",
    "The Python programming language comes with a variety of built-in functions. Among these are several common functions, including:\n",
    "\n",
    "+ print() which prints expressions out\n",
    "+ abs() which returns the absolute value of a number\n",
    "+ int() which converts another data type to an integer\n",
    "+ len() which returns the length of a sequence or collection\n",
    "\n",
    "These built-in functions, however, are limited, and we can make use of modules to make more sophisticated programs.\n",
    "\n",
    "Modules are Python .py files that consist of Python code. Any Python file can be referenced as a module. A Python file called hello.py has the module name of hello that can be imported into other Python files or used on the Python command line interpreter. \n",
    "\n",
    "Run the following cell to see what it does and observe the output"
   ]
  },
  {
   "cell_type": "code",
   "execution_count": null,
   "metadata": {},
   "outputs": [],
   "source": [
    "from pandas import read_csv\n",
    "\n",
    "RNASeqSRARunTableFile='data/RNASeqSRA.tsv'\n",
    "RNASeqSRATable = read_csv(RNASeqSRARunTableFile, delimiter='\\t')\n",
    "RNASeqoutrun = (RNASeqSRATable[\"Run\"]).astype(list)\n",
    "RNASeqoutputSam = \"test/\" + RNASeqoutrun + \".sam\"\n",
    "RNASeqoutputAlignmentSummary = \"test/\" + RNASeqoutrun + \".txt\"\n",
    "RNASeqoutputMetrics = \"test/\" + RNASeqoutrun + \".metrics\"\n",
    "RNASeqoutputSortBam = \"test/\" + RNASeqoutrun + \".sorted.bam\"\n",
    "\n",
    "ChIPSeqSRARunTableFile='data/ChIPSeqSRA.tsv'\n",
    "ChIPSeqSRATable = read_csv(ChIPSeqSRARunTableFile, delimiter='\\t')\n",
    "ChIPSeqoutrun = (ChIPSeqSRATable[\"Run\"]).astype(list)\n",
    "ChIPSeqoutputSam = \"test/\" + ChIPSeqoutrun + \".sam\"\n",
    "ChIPSeqoutputAlignmentSummary = \"test/\" + ChIPSeqoutrun + \".txt\"\n",
    "ChIPSeqoutputMetrics = \"test/\" + ChIPSeqoutrun + \".metrics\"\n",
    "ChIPSeqoutputSortBam = \"test/\" + ChIPSeqoutrun + \".sorted.bam\"\n",
    "\n",
    "print(\"RNA-Seq run \" + RNASeqoutrun)\n",
    "print(\"ChIP-Seq run \" + ChIPSeqoutrun)"
   ]
  },
  {
   "cell_type": "markdown",
   "metadata": {},
   "source": [
    "Then run the following command to create the yeast index. The following command is a bash script `makeYeastIndex.sh` in the directory `scripts`. When run, the script downloads sequences for the latest Yeast release from Ensembl. By default, it builds and index for just the base files, since alignments to those sequences are the most useful.  To change which categories are built by this script, edit the CHRS_TO_INDEX variable in the `scripts/makeYeastIndex.sh` file. "
   ]
  },
  {
   "cell_type": "code",
   "execution_count": null,
   "metadata": {},
   "outputs": [],
   "source": [
    "!bash scripts/makeYeastIndex.sh"
   ]
  },
  {
   "cell_type": "markdown",
   "metadata": {},
   "source": [
    "Align the RNA-Seq samples using Hisat.\n",
    "\n",
    "This step will most likely take several hours. To ensure that it runs successfully, we are running hisat using `nohup`  to allow it to run even after you logout. The output from this step will be saved in a file `RUN.hisat2.log` in which RUN is the SRR ID of the run. "
   ]
  },
  {
   "cell_type": "code",
   "execution_count": null,
   "metadata": {},
   "outputs": [],
   "source": [
    "for index, individual in enumerate(RNASeqoutrun):\n",
    "    run = RNASeqoutrun[index]\n",
    "    summary = RNASeqoutputAlignmentSummary[index] \n",
    "    metrics = RNASeqoutputMetrics[index]\n",
    "    sam = RNASeqoutputSam[index]\n",
    "    bam = RNASeqoutputSortBam[index]\n",
    "    !nohup hisat2 -x yeast_index/genome --sra-acc $run --new-summary --summary-file $summary --met-file $metrics -S $sam & > $run.hisat2.log"
   ]
  },
  {
   "cell_type": "markdown",
   "metadata": {},
   "source": [
    "## Samtools \n",
    "\n",
    "We'll use samtools to sort the output files and convert them to bam files.\n",
    "\n",
    "Sort the output files and convert them to bam files. Again, nohup is used to ensure it continues running."
   ]
  },
  {
   "cell_type": "code",
   "execution_count": null,
   "metadata": {},
   "outputs": [],
   "source": [
    "for index, individual in enumerate(RNASeqoutrun):\n",
    "    run = RNASeqoutrun[index]\n",
    "    summary = RNASeqoutputAlignmentSummary[index] \n",
    "    metrics = RNASeqoutputMetrics[index]\n",
    "    sam = RNASeqoutputSam[index]\n",
    "    bam = RNASeqoutputSortBam[index]\n",
    "    !nohup samtools view -bSF4 $sam | samtools sort -o $bam & > $bam.out\n",
    "    "
   ]
  },
  {
   "cell_type": "markdown",
   "metadata": {},
   "source": [
    "Do the same thing for ChIP-Seq samples."
   ]
  },
  {
   "cell_type": "code",
   "execution_count": null,
   "metadata": {},
   "outputs": [],
   "source": [
    "for index, individual in enumerate(ChIPSeqoutrun):\n",
    "    run = ChIPSeqoutrun[index]\n",
    "    summary = ChIPSeqoutputAlignmentSummary[index] \n",
    "    metrics = ChIPSeqoutputMetrics[index]\n",
    "    sam = ChIPSeqoutputSam[index]\n",
    "    bam = ChIPSeqoutputSortBam[index]\n",
    "    index = \"yeast_index/genome\"\n",
    "    !nohup hisat2 -x $index --sra-acc $run --new-summary --summary-file $summary --met-file $metrics -S $sam & > $run.hisat2.log"
   ]
  },
  {
   "cell_type": "code",
   "execution_count": null,
   "metadata": {},
   "outputs": [],
   "source": [
    "for index, individual in enumerate(ChIPSeqoutrun):\n",
    "    run = ChIPSeqoutrun[index]\n",
    "    summary = ChIPSeqoutputAlignmentSummary[index] \n",
    "    metrics = ChIPSeqoutputMetrics[index]\n",
    "    sam = ChIPSeqoutputSam[index]\n",
    "    bam = ChIPSeqoutputSortBam[index]\n",
    "    !samtools view -bSF4 $sam | samtools sort -o $bam"
   ]
  },
  {
   "cell_type": "markdown",
   "metadata": {},
   "source": [
    "## MultiQC\n",
    "\n",
    "This section details quality control checks on the read data from either RNAseq or ChIPseq data using MultiQC. MultiQC takes all output and log files from an alignment software program and aggregates the information from all samples into one convenient report (html by default).\n",
    "\n",
    "MultiQC was installed earlier in the tutorial, so all we need to do is run it on the data."
   ]
  },
  {
   "cell_type": "markdown",
   "metadata": {},
   "source": [
    "MultiQC is configured to run the same no matter what type of sequencing data is available, therefore the same command can be used to analyze either our RNAseq data or our ChIPseq data.  We include the option 'hisat_output' since we are aligning using the HISAT2 program.  See http://multiqc.info/docs/ for more information."
   ]
  },
  {
   "cell_type": "markdown",
   "metadata": {},
   "source": [
    "We use the 'hisat_output' option because we are analyzing data downloaded and aligned using the HISAT2 program.  We use the '--force' option to overwrite any previous versions of the multiqc_report.  '--quiet' only shows log warnings."
   ]
  },
  {
   "cell_type": "code",
   "execution_count": null,
   "metadata": {},
   "outputs": [],
   "source": [
    "!multiqc \"\".join(RNASeqoutrun) --quiet --outdir test/multiqc_rnaseq --force\n",
    "!multiqc \"\".join(ChIPSeqoutrun) --quiet --outdir test/multiqc_chipseq --force"
   ]
  },
  {
   "cell_type": "markdown",
   "metadata": {},
   "source": [
    "# ChIP-Seq\n",
    "## MACS (Model-based Analysis for ChIP-Seq)\n",
    "\n",
    "Peak-calling is one of the main steps scientists use in determining the locations where protein is bound in DNA. Peak detection software, such as MACS (Model-Based Analysis for ChIP-Seq), call peaks using the aligned sequecnes as input and returns precise locations of predicted peaks as output. In this tutorial, we'll use MACS.\n",
    "\n",
    "More information about MACS: http://liulab.dfci.harvard.edu/MACS/Download.html"
   ]
  },
  {
   "cell_type": "code",
   "execution_count": null,
   "metadata": {},
   "outputs": [],
   "source": [
    "ChIPSeqControl = ChIPSeqSRATable.loc[ChIPSeqSRATable[\"source_name\"] == \"Untreated\"][\"Run\"].astype(list)\n",
    "ChIPSeqTreatment = ChIPSeqSRATable.loc[ChIPSeqSRATable[\"source_name\"] != \"Untreated\"][\"Run\"].astype(list)\n",
    "\n",
    "print(\"Control sample \" + ChIPSeqControl)\n",
    "print(\"Treatment sample \" + ChIPSeqTreatment)"
   ]
  },
  {
   "cell_type": "code",
   "execution_count": null,
   "metadata": {},
   "outputs": [],
   "source": [
    "for index, individual in enumerate(ChIPSeqControl):\n",
    "    outputdirectory = \"test/\" + ChIPSeqTreatment.iloc[index]\n",
    "    name = ChIPSeqTreatment.iloc[index]\n",
    "    immunoprecipitate = \"test/\" + ChIPSeqTreatment.iloc[index] + \".sorted.bam\"\n",
    "    control = \"test/\" + ChIPSeqControl.iloc[index] + \".sorted.bam\"\n",
    "    !nohup macs2 callpeak -c $control -t $immunoprecipitate -n $name --outdir $outputdirectory & > $name.macs2.log"
   ]
  },
  {
   "cell_type": "markdown",
   "metadata": {},
   "source": [
    "For an in-depth discussion of what MACS2 does: https://github.com/taoliu/MACS/wiki/Advanced:-Call-peaks-using-MACS2-subcommands"
   ]
  },
  {
   "cell_type": "markdown",
   "metadata": {},
   "source": [
    "## Bedtools\n",
    "\n",
    "In this tutorial, we'll use Bedtools to extract the intersecting regions of the MACS output between the experimental conditions.\n",
    "\n",
    "The Bedtools suite of programs is widely used for genomic interval manipulation or \"genome algebra\". \n",
    "\n",
    "First we'll sort the output. The following line uses the `sort` command to sort the MACS output."
   ]
  },
  {
   "cell_type": "code",
   "execution_count": null,
   "metadata": {},
   "outputs": [],
   "source": [
    "for index, individual in enumerate(ChIPSeqTreatment):\n",
    "    macs_output = \"test/\" + name + \"/\" + name + \"_peaks.narrowPeak\"\n",
    "    sort = \"test/\" + name + \"/\" + name + \"_peaks.narrowPeak.sorted\"\n",
    "    !sort -k 1,1 -k2,2n $macs_output > $sort"
   ]
  },
  {
   "cell_type": "markdown",
   "metadata": {},
   "source": [
    "Then we'll find the intersecting regions between the different experimental conditions."
   ]
  },
  {
   "cell_type": "code",
   "execution_count": null,
   "metadata": {},
   "outputs": [],
   "source": [
    "!bedtools intersect -a test/SRR6703661/SRR6703661_peaks.narrowPeak.sorted -b test/SRR6703663/SRR6703663_peaks.narrowPeak.sorted -u > test/ChIPSeqintersect.bed"
   ]
  },
  {
   "cell_type": "markdown",
   "metadata": {},
   "source": [
    "## Integrative Genomics Viewer\n",
    "\n",
    "A BAM file viewer will allow you to see your reads in an interactive graphical display. There are many different viewers available such as UCSC Genome Browser, Integrative Genomics Viewer (IGV), and NCBI Genome Workbench.\n",
    "\n",
    "To load .bam files please first do the following:\n",
    "\n",
    "Transfer the data to your computer. Amazon provides documentation on copying files with scp (Linux, OSX) and WinSCP (Windows). \n",
    "\n",
    "For scp, the command will be approximately: scp ubuntu@your-instance-name-or-ip-address:/home/ubuntu/data/transcript.fa\n",
    "\n",
    "Load annotation in IGV\n",
    "File -> Load from File ... -> ChIPSeqintersect.bed"
   ]
  },
  {
   "cell_type": "markdown",
   "metadata": {},
   "source": [
    "# RNA-Seq\n",
    "## HTSeq (High-through sequencing)\n",
    "\n",
    "HTSeq is a Python library to facilitate the rapid development of RNA-Seq analysis. HTSeq offers parsers for many common data formats in HTS projects, as well as classes to represent data, such as genomic coordinates, sequences, sequencing reads, alignments, gene model information and variant calls, and provides data structures that allow for querying via genomic coordinates. In this tutorial we will use htseq-count, a tool developed with HTSeq that preprocesses RNA-Seq data for differential expression analysis by counting the overlap of reads with genes."
   ]
  },
  {
   "cell_type": "code",
   "execution_count": null,
   "metadata": {},
   "outputs": [],
   "source": [
    "from pandas import read_csv\n",
    "\n",
    "gtf = \"data/Saccharomyces_cerevisiae.R64-1-1.84.gtf\"\n",
    "\n",
    "RNASeqSRARunTableFile='data/RNASeqSRA.tsv'\n",
    "RNASeqSRATable = read_csv(RNASeqSRARunTableFile, delimiter='\\t')\n",
    "RNASeqoutrun = (RNASeqSRATable[\"Run\"]).astype(list)\n",
    "RNASeqoutputSortBam = \"test/\" + RNASeqoutrun + \".sorted.bam\""
   ]
  },
  {
   "cell_type": "code",
   "execution_count": null,
   "metadata": {},
   "outputs": [],
   "source": [
    "for index, individual in enumerate(RNASeqoutputSortBam):\n",
    "    input = individual\n",
    "    output = individual + \".genecount.txt\"\n",
    "    !htseq-count -m intersection-nonempty -s no -f bam $input $gtf > $output"
   ]
  },
  {
   "cell_type": "markdown",
   "metadata": {},
   "source": [
    "## DESeq (Differential Expression Sequencing)\n",
    "\n",
    "Estimate variance-mean dependence in count data from high-throughput sequencing assays and test for differential expression based on a model using the negative binomial distribution"
   ]
  },
  {
   "cell_type": "code",
   "execution_count": null,
   "metadata": {},
   "outputs": [],
   "source": [
    "!Rscript scripts/runDeseq.R"
   ]
  },
  {
   "cell_type": "markdown",
   "metadata": {},
   "source": [
    "## Visualization\n",
    "\n",
    "The following script performs principal component analysis and creates volcano plots and bar graphs of RNA-Seq expression."
   ]
  },
  {
   "cell_type": "code",
   "execution_count": null,
   "metadata": {},
   "outputs": [],
   "source": [
    "!Rscript scripts/loadYeastGeneCounts.R"
   ]
  }
 ],
 "metadata": {
  "kernelspec": {
   "display_name": "Python 3",
   "language": "python",
   "name": "python3"
  },
  "language_info": {
   "codemirror_mode": {
    "name": "ipython",
    "version": 3
   },
   "file_extension": ".py",
   "mimetype": "text/x-python",
   "name": "python",
   "nbconvert_exporter": "python",
   "pygments_lexer": "ipython3",
   "version": "3.5.5"
  }
 },
 "nbformat": 4,
 "nbformat_minor": 2
}
