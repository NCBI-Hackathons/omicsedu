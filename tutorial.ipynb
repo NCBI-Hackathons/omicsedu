{
 "cells": [
  {
   "cell_type": "markdown",
   "metadata": {},
   "source": [
    "# Contents\n",
    "1. Installation\n",
    "    1. Set up channels\n",
    "    2. Create an environment and install the packages\n",
    "2. Alignment\n",
    "    1. HISAT \n",
    "    2. Samtools\n",
    "    3. MultiQC\n",
    "3. ChIP-Seq\n",
    "    1. MACS\n",
    "    2. Bedtools\n",
    "4. RNA-Seq\n",
    "    1. HTSeq\n",
    "    2. featureCounts\n",
    "    3. DESeq\n",
    "    4. Salmon\n",
    "    5.dupRadar"
   ]
  },
  {
   "cell_type": "markdown",
   "metadata": {},
   "source": [
    "# Installation\n",
    "\n",
    "Before running any programs, we'll make sure that each software is installed correctly. This tutorial uses Bioconda (https://bioconda.github.io/). Bioconda is a channel for the conda package manager specializing in bioinformatics software. The available packages are listed here: https://bioconda.github.io/recipes.html#recipes."
   ]
  },
  {
   "cell_type": "markdown",
   "metadata": {},
   "source": [
    "## Set up channels\n",
    "\n",
    "You will need to add the bioconda channel as well as the other channels bioconda depends on. It is important to add them in this order so that the priority is set correctly (that is, bioconda is highest priority).\n",
    "\n",
    "The conda-forge channel contains many general-purpose packages not already found in the defaults channel. The r channel is only included due to backward compatibility. It is not mandatory, but without the r channel packages compiled against R 3.3.1 might not work."
   ]
  },
  {
   "cell_type": "markdown",
   "metadata": {},
   "source": [
    "This tutorial uses cells written in python and unix to perform its analyses. Lines that are written in unix are prefixed by an exclamation point. \n",
    "\n",
    "Select the following cell and run it. To run a cell, select the cell, click \"Cell\" the upper taskbar, and select \"Run Cells\". Or click the cell and press shift + enter.\n",
    "\n",
    "Alternatively, the contents of any cell may be copy+pasted into the terminal emulator to run."
   ]
  },
  {
   "cell_type": "code",
   "execution_count": null,
   "metadata": {},
   "outputs": [],
   "source": [
    "!conda config --add channels defaults\n",
    "!conda config --add channels conda-forge\n",
    "!conda config --add channels bioconda"
   ]
  },
  {
   "cell_type": "markdown",
   "metadata": {},
   "source": [
    "## Create an environment and install the packages\n",
    "\n",
    "In this tutorial we will create an environment named \"tutorial\" and install the packages in there. Environments offer ways of installing packages in specific environments so they can be managed and run for different specifications. You can create, export, list, remove and update environments that have different versions of Python and/or packages installed in them. Switching or moving between environments is called activating the environment. You can also share an environment file.\n",
    "\n",
    "This command will create an environment \"tutorial\" in which to install the packages used in this tutorial.\n",
    "\n",
    "Run the following commands to create the environment. When it asks if you want to proceed, type \"y\" and press enter."
   ]
  },
  {
   "cell_type": "code",
   "execution_count": null,
   "metadata": {},
   "outputs": [],
   "source": [
    "!conda create -n tutorial hisat2 multiqc macs2 salmon bioconductor-deseq matplotlib ggplot pybedtools samtools bioconductor-rsamtools bedtools htseq subread bioconductor-rsubread"
   ]
  },
  {
   "cell_type": "markdown",
   "metadata": {},
   "source": [
    "Then activate the environment with the following command."
   ]
  },
  {
   "cell_type": "code",
   "execution_count": null,
   "metadata": {},
   "outputs": [],
   "source": [
    "# For Mac and Linux\n",
    "\n",
    "!source activate tutorial\n",
    "\n",
    "# For Windows\n",
    "\n",
    "!activate tutorial"
   ]
  },
  {
   "cell_type": "markdown",
   "metadata": {},
   "source": [
    "# Alignment\n",
    "## HISAT (Hierarchical Indexing for Spliced Alignment of Transcripts)\n",
    "\n",
    "In this tutorial, we'll use Hisat to align the sample reads to a reference genome. Hisat automatically downloads and preprocesses the reads so they're ready to be aligned. Hisat (hierarchical indexing for spliced alignment of transcripts) is a highly efficient system for aligning reads from RNA sequencing experiments. HISAT uses an indexing scheme based on the Burrows-Wheeler transform and the Ferragina-Manzini (FM) index, employing two types of indexes for alignment: a whole-genome FM index to anchor each alignment and numerous local FM indexes for very rapid extensions of these alignments. HISAT’s hierarchical index for the human genome contains 48,000 local FM indexes, each representing a genomic region of ~64,000 bp."
   ]
  },
  {
   "cell_type": "markdown",
   "metadata": {},
   "source": [
    "The RNA-Seq data we'll use is from https://www.ncbi.nlm.nih.gov/Traces/study/?acc=SRP106028 and the ChIP-Seq data is from https://www.ncbi.nlm.nih.gov/Traces/study/?acc=SRP132584\n",
    "\n",
    "The model organism for this project is Yeast i.e. Saccharomyces cerevisiae. For RNA-Seq, yeast data between euploid and aneuoploid conditions will be compared. For ChIP-SEq, yeast data between 3AT-treated and untreated conditions will be compared."
   ]
  },
  {
   "cell_type": "code",
   "execution_count": 6,
   "metadata": {},
   "outputs": [],
   "source": [
    "from pandas import read_csv\n",
    "\n",
    "RNASeqSRARunTableFile='data/RNASeqSRA.tsv'\n",
    "RNASeqSRATable = read_csv(RNASeqSRARunTableFile, delimiter='\\t')\n",
    "RNASeqoutrun = (RNASeqSRATable[\"Run\"]).astype(list)\n",
    "RNASeqoutputSam = \"test/\" + RNASeqoutrun + \".sam\"\n",
    "RNASeqoutputAlignmentSummary = \"test/\" + RNASeqoutrun + \".txt\"\n",
    "RNASeqoutputMetrics = \"test/\" + RNASeqoutrun + \".metrics\"\n",
    "RNASeqoutputSortBam = \"test/\" + RNASeqoutrun + \".sorted.bam\"\n",
    "\n",
    "ChIPSeqSRARunTableFile='data/ChIPSeqSRA.tsv'\n",
    "ChIPSeqSRATable = read_csv(ChIPSeqSRARunTableFile, delimiter='\\t')\n",
    "ChIPSeqoutrun = (ChIPSeqSRATable[\"Run\"]).astype(list)\n",
    "ChIPSeqoutputSam = \"test/\" + ChIPSeqoutrun + \".sam\"\n",
    "ChIPSeqoutputAlignmentSummary = \"test/\" + ChIPSeqoutrun + \".txt\"\n",
    "ChIPSeqoutputMetrics = \"test/\" + ChIPSeqoutrun + \".metrics\"\n",
    "ChIPSeqoutputSortBam = \"test/\" + ChIPSeqoutrun + \".sorted.bam\""
   ]
  },
  {
   "cell_type": "code",
   "execution_count": null,
   "metadata": {},
   "outputs": [],
   "source": [
    "Then run the following command to create the yeast index."
   ]
  },
  {
   "cell_type": "code",
   "execution_count": null,
   "metadata": {},
   "outputs": [],
   "source": [
    "!bash scripts/make_yeast_index.sh"
   ]
  },
  {
   "cell_type": "code",
   "execution_count": null,
   "metadata": {},
   "outputs": [],
   "source": [
    "Align the RNA-Seq samples using Hisat. "
   ]
  },
  {
   "cell_type": "code",
   "execution_count": null,
   "metadata": {},
   "outputs": [],
   "source": [
    "for index, individual in enumerate(RNASeqoutrun):\n",
    "    run = RNASeqoutrun[index]\n",
    "    summary = RNASeqoutputAlignmentSummary[index] \n",
    "    metrics = RNASeqoutputMetrics[index]\n",
    "    sam = RNASeqoutputSam[index]\n",
    "    bam = RNASeqoutputSortBam[index]\n",
    "    !hisat2 -x yeast_index/genome --sra-acc $run --new-summary --summary-file $summary --met-file $metrics -S $sam"
   ]
  },
  {
   "cell_type": "markdown",
   "metadata": {},
   "source": [
    "## Samtools \n",
    "\n",
    "We'll use samtools to sort the output files and convert them to bam files.\n",
    "\n",
    "Sort the output files and convert them to bam files."
   ]
  },
  {
   "cell_type": "code",
   "execution_count": null,
   "metadata": {},
   "outputs": [],
   "source": [
    "for index, individual in enumerate(RNASeqoutrun):\n",
    "    run = RNASeqoutrun[index]\n",
    "    summary = RNASeqoutputAlignmentSummary[index] \n",
    "    metrics = RNASeqoutputMetrics[index]\n",
    "    sam = RNASeqoutputSam[index]\n",
    "    bam = RNASeqoutputSortBam[index]\n",
    "    !samtools view -bSF4 $sam | samtools sort -o $bam\n",
    "    "
   ]
  },
  {
   "cell_type": "code",
   "execution_count": null,
   "metadata": {},
   "outputs": [],
   "source": [
    "Do the same thing for ChIP-Seq samples."
   ]
  },
  {
   "cell_type": "code",
   "execution_count": null,
   "metadata": {},
   "outputs": [],
   "source": [
    "for index, individual in enumerate(ChIPSeqoutrun):\n",
    "    run = ChIPSeqoutrun[index]\n",
    "    summary = ChIPSeqoutputAlignmentSummary[index] \n",
    "    metrics = ChIPSeqoutputMetrics[index]\n",
    "    sam = ChIPSeqoutputSam[index]\n",
    "    bam = ChIPSeqoutputSortBam[index]\n",
    "    index = \"yeast_index/genome\"\n",
    "    !hisat2 -x $index --sra-acc $run --new-summary --summary-file ../.$summary --met-file ../../../$metrics -S ../../../$sam"
   ]
  },
  {
   "cell_type": "code",
   "execution_count": null,
   "metadata": {},
   "outputs": [],
   "source": [
    "for index, individual in enumerate(ChIPSeqoutrun):\n",
    "    run = ChIPSeqoutrun[index]\n",
    "    summary = ChIPSeqoutputAlignmentSummary[index] \n",
    "    metrics = ChIPSeqoutputMetrics[index]\n",
    "    sam = ChIPSeqoutputSam[index]\n",
    "    bam = ChIPSeqoutputSortBam[index]\n",
    "    !samtools view -bSF4 ../$sam | samtools sort -o ../$bam"
   ]
  },
  {
   "cell_type": "markdown",
   "metadata": {},
   "source": [
    "## MultiQC\n",
    "\n",
    "This section details quality control checks on the read data from either RNAseq or ChIPseq data using MultiQC. MultiQC takes all output and log files from an alignment software program and aggregates the information from all samples into one convenient report (html by default).\n",
    "\n",
    "MultiQC was installed earlier in the tutorial, so all we need to do is run it on the data."
   ]
  },
  {
   "cell_type": "markdown",
   "metadata": {},
   "source": [
    "MultiQC is configured to run the same no matter what type of sequencing data is available, therefore the same command can be used to analyze either our RNAseq data or our ChIPseq data.  We include the option 'hisat_output' since we are aligning using the HISAT2 program.  See http://multiqc.info/docs/ for more information."
   ]
  },
  {
   "cell_type": "markdown",
   "metadata": {},
   "source": [
    "We use the 'hisat_output' option because we are analyzing data downloaded and aligned using the HISAT2 program.  We use the '--force' option to overwrite any previous versions of the multiqc_report.  '--quiet' only shows log warnings."
   ]
  },
  {
   "cell_type": "code",
   "execution_count": null,
   "metadata": {},
   "outputs": [],
   "source": [
    "!multiqc \"\".join(RNASeqoutrun) --quiet --outdir ../test/multiqc_rnaseq --force\n",
    "!multiqc \"\".join(ChIPSeqoutrun) --quiet --outdir ../test/multiqc_chipseq --force"
   ]
  },
  {
   "cell_type": "markdown",
   "metadata": {},
   "source": [
    "# ChIP-Seq\n",
    "## MACS (Model-based Analysis for ChIP-Seq)\n",
    "\n",
    "Peak-calling is one of the main steps scientists use in determining the locations where protein is bound in DNA. Peak detection software, such as MACS (Model-Based Analysis for ChIP-Seq), call peaks using the aligned sequecnes as input and returns precise locations of predicted peaks as output. In this tutorial, we'll use MACS.\n",
    "\n",
    "More information about MACS: http://liulab.dfci.harvard.edu/MACS/Download.html"
   ]
  },
  {
   "cell_type": "code",
   "execution_count": 8,
   "metadata": {},
   "outputs": [
    {
     "name": "stdout",
     "output_type": "stream",
     "text": [
      "0    Control sample SRR6703656\n",
      "2    Control sample SRR6703662\n",
      "Name: Run, dtype: object\n",
      "1    Treatment sample SRR6703661\n",
      "3    Treatment sample SRR6703663\n",
      "Name: Run, dtype: object\n",
      "SRR6703656\n",
      "SRR6703662\n"
     ]
    }
   ],
   "source": [
    "ChIPSeqControl = ChIPSeqSRATable.loc[ChIPSeqSRATable[\"source_name\"] == \"Untreated\"][\"Run\"].astype(list)\n",
    "ChIPSeqTreatment = ChIPSeqSRATable.loc[ChIPSeqSRATable[\"source_name\"] != \"Untreated\"][\"Run\"].astype(list)\n",
    "\n",
    "print(\"Control sample \" + ChIPSeqControl)\n",
    "print(\"Treatment sample \" + ChIPSeqTreatment)"
   ]
  },
  {
   "cell_type": "code",
   "execution_count": null,
   "metadata": {},
   "outputs": [
    {
     "name": "stdout",
     "output_type": "stream",
     "text": [
      "INFO  @ Wed, 18 Apr 2018 14:27:58: \n",
      "# Command line: callpeak -c test/SRR6703656.sorted.bam -t test/SRR6703661.sorted.bam -n test/SRR6703661.sorted.bam --outdir test/SRR6703661.sorted.bam\n",
      "# ARGUMENTS LIST:\n",
      "# name = test/SRR6703661.sorted.bam\n",
      "# format = AUTO\n",
      "# ChIP-seq file = ['test/SRR6703661.sorted.bam']\n",
      "# control file = ['test/SRR6703656.sorted.bam']\n",
      "# effective genome size = 2.70e+09\n",
      "# band width = 300\n",
      "# model fold = [5, 50]\n",
      "# qvalue cutoff = 5.00e-02\n",
      "# Larger dataset will be scaled towards smaller dataset.\n",
      "# Range for calculating regional lambda is: 1000 bps and 10000 bps\n",
      "# Broad region calling is off\n",
      "# Paired-End mode is off\n",
      " \n",
      "INFO  @ Wed, 18 Apr 2018 14:27:58: #1 read tag files... \n",
      "INFO  @ Wed, 18 Apr 2018 14:27:58: #1 read treatment tags... \n",
      "INFO  @ Wed, 18 Apr 2018 14:27:58: Detected format is: BAM \n",
      "INFO  @ Wed, 18 Apr 2018 14:27:58: * Input file is gzipped. \n",
      "INFO  @ Wed, 18 Apr 2018 14:28:02:  1000000 \n",
      "INFO  @ Wed, 18 Apr 2018 14:28:06:  2000000 \n",
      "INFO  @ Wed, 18 Apr 2018 14:28:11:  3000000 \n",
      "INFO  @ Wed, 18 Apr 2018 14:28:15:  4000000 \n",
      "INFO  @ Wed, 18 Apr 2018 14:28:20:  5000000 \n",
      "INFO  @ Wed, 18 Apr 2018 14:28:24:  6000000 \n",
      "INFO  @ Wed, 18 Apr 2018 14:28:28:  7000000 \n",
      "INFO  @ Wed, 18 Apr 2018 14:28:33:  8000000 \n",
      "INFO  @ Wed, 18 Apr 2018 14:28:37:  9000000 \n",
      "INFO  @ Wed, 18 Apr 2018 14:28:42:  10000000 \n",
      "INFO  @ Wed, 18 Apr 2018 14:28:46:  11000000 \n",
      "INFO  @ Wed, 18 Apr 2018 14:28:50:  12000000 \n",
      "INFO  @ Wed, 18 Apr 2018 14:28:55:  13000000 \n",
      "INFO  @ Wed, 18 Apr 2018 14:28:59:  14000000 \n",
      "INFO  @ Wed, 18 Apr 2018 14:29:04:  15000000 \n",
      "INFO  @ Wed, 18 Apr 2018 14:29:08:  16000000 \n",
      "INFO  @ Wed, 18 Apr 2018 14:29:13:  17000000 \n",
      "INFO  @ Wed, 18 Apr 2018 14:29:17:  18000000 \n",
      "INFO  @ Wed, 18 Apr 2018 14:29:22:  19000000 \n",
      "INFO  @ Wed, 18 Apr 2018 14:29:26:  20000000 \n",
      "INFO  @ Wed, 18 Apr 2018 14:29:31:  21000000 \n",
      "INFO  @ Wed, 18 Apr 2018 14:29:35:  22000000 \n",
      "INFO  @ Wed, 18 Apr 2018 14:29:40:  23000000 \n",
      "INFO  @ Wed, 18 Apr 2018 14:29:44:  24000000 \n",
      "INFO  @ Wed, 18 Apr 2018 14:29:49:  25000000 \n",
      "INFO  @ Wed, 18 Apr 2018 14:29:53:  26000000 \n",
      "INFO  @ Wed, 18 Apr 2018 14:29:58:  27000000 \n",
      "INFO  @ Wed, 18 Apr 2018 14:30:02:  28000000 \n",
      "INFO  @ Wed, 18 Apr 2018 14:30:07:  29000000 \n",
      "INFO  @ Wed, 18 Apr 2018 14:30:11:  30000000 \n",
      "INFO  @ Wed, 18 Apr 2018 14:30:16:  31000000 \n",
      "INFO  @ Wed, 18 Apr 2018 14:30:20:  32000000 \n",
      "INFO  @ Wed, 18 Apr 2018 14:30:25:  33000000 \n",
      "INFO  @ Wed, 18 Apr 2018 14:30:29:  34000000 \n",
      "INFO  @ Wed, 18 Apr 2018 14:30:34:  35000000 \n",
      "INFO  @ Wed, 18 Apr 2018 14:30:38:  36000000 \n",
      "INFO  @ Wed, 18 Apr 2018 14:30:43:  37000000 \n",
      "INFO  @ Wed, 18 Apr 2018 14:30:47:  38000000 \n",
      "INFO  @ Wed, 18 Apr 2018 14:30:52:  39000000 \n",
      "INFO  @ Wed, 18 Apr 2018 14:30:56:  40000000 \n",
      "INFO  @ Wed, 18 Apr 2018 14:31:01:  41000000 \n",
      "INFO  @ Wed, 18 Apr 2018 14:31:05:  42000000 \n",
      "INFO  @ Wed, 18 Apr 2018 14:31:10:  43000000 \n",
      "INFO  @ Wed, 18 Apr 2018 14:31:14:  44000000 \n",
      "INFO  @ Wed, 18 Apr 2018 14:31:19:  45000000 \n",
      "INFO  @ Wed, 18 Apr 2018 14:31:23:  46000000 \n",
      "INFO  @ Wed, 18 Apr 2018 14:31:28:  47000000 \n",
      "INFO  @ Wed, 18 Apr 2018 14:31:32:  48000000 \n",
      "INFO  @ Wed, 18 Apr 2018 14:31:37:  49000000 \n",
      "INFO  @ Wed, 18 Apr 2018 14:31:41:  50000000 \n",
      "INFO  @ Wed, 18 Apr 2018 14:31:45:  51000000 \n",
      "INFO  @ Wed, 18 Apr 2018 14:31:49:  52000000 \n",
      "INFO  @ Wed, 18 Apr 2018 14:31:53:  53000000 \n",
      "INFO  @ Wed, 18 Apr 2018 14:31:58:  54000000 \n",
      "INFO  @ Wed, 18 Apr 2018 14:32:02:  55000000 \n",
      "INFO  @ Wed, 18 Apr 2018 14:32:06:  56000000 \n",
      "INFO  @ Wed, 18 Apr 2018 14:32:11:  57000000 \n",
      "INFO  @ Wed, 18 Apr 2018 14:32:15:  58000000 \n",
      "INFO  @ Wed, 18 Apr 2018 14:32:20:  59000000 \n",
      "INFO  @ Wed, 18 Apr 2018 14:32:24:  60000000 \n",
      "INFO  @ Wed, 18 Apr 2018 14:32:29:  61000000 \n",
      "INFO  @ Wed, 18 Apr 2018 14:32:33:  62000000 \n",
      "INFO  @ Wed, 18 Apr 2018 14:32:38:  63000000 \n",
      "INFO  @ Wed, 18 Apr 2018 14:32:42:  64000000 \n",
      "INFO  @ Wed, 18 Apr 2018 14:32:47:  65000000 \n",
      "INFO  @ Wed, 18 Apr 2018 14:32:51:  66000000 \n",
      "INFO  @ Wed, 18 Apr 2018 14:32:55:  67000000 \n",
      "INFO  @ Wed, 18 Apr 2018 14:33:00:  68000000 \n",
      "INFO  @ Wed, 18 Apr 2018 14:33:04:  69000000 \n",
      "INFO  @ Wed, 18 Apr 2018 14:33:09:  70000000 \n",
      "INFO  @ Wed, 18 Apr 2018 14:33:13:  71000000 \n",
      "INFO  @ Wed, 18 Apr 2018 14:33:18:  72000000 \n",
      "INFO  @ Wed, 18 Apr 2018 14:33:22:  73000000 \n",
      "INFO  @ Wed, 18 Apr 2018 14:33:26:  74000000 \n",
      "INFO  @ Wed, 18 Apr 2018 14:33:31:  75000000 \n",
      "INFO  @ Wed, 18 Apr 2018 14:33:35:  76000000 \n",
      "INFO  @ Wed, 18 Apr 2018 14:33:39:  77000000 \n",
      "INFO  @ Wed, 18 Apr 2018 14:33:43:  78000000 \n",
      "INFO  @ Wed, 18 Apr 2018 14:33:47:  79000000 \n",
      "INFO  @ Wed, 18 Apr 2018 14:33:51:  80000000 \n",
      "INFO  @ Wed, 18 Apr 2018 14:33:54:  81000000 \n",
      "INFO  @ Wed, 18 Apr 2018 14:33:58:  82000000 \n",
      "INFO  @ Wed, 18 Apr 2018 14:34:01:  83000000 \n",
      "INFO  @ Wed, 18 Apr 2018 14:34:05:  84000000 \n",
      "INFO  @ Wed, 18 Apr 2018 14:34:09:  85000000 \n",
      "INFO  @ Wed, 18 Apr 2018 14:34:12:  86000000 \n",
      "INFO  @ Wed, 18 Apr 2018 14:34:16:  87000000 \n",
      "INFO  @ Wed, 18 Apr 2018 14:34:19:  88000000 \n",
      "INFO  @ Wed, 18 Apr 2018 14:34:23:  89000000 \n",
      "INFO  @ Wed, 18 Apr 2018 14:34:27:  90000000 \n",
      "INFO  @ Wed, 18 Apr 2018 14:34:30:  91000000 \n",
      "INFO  @ Wed, 18 Apr 2018 14:34:34:  92000000 \n",
      "INFO  @ Wed, 18 Apr 2018 14:34:38:  93000000 \n",
      "INFO  @ Wed, 18 Apr 2018 14:34:41:  94000000 \n",
      "INFO  @ Wed, 18 Apr 2018 14:34:45:  95000000 \n",
      "INFO  @ Wed, 18 Apr 2018 14:34:48:  96000000 \n",
      "INFO  @ Wed, 18 Apr 2018 14:34:52:  97000000 \n",
      "INFO  @ Wed, 18 Apr 2018 14:34:55:  98000000 \n",
      "INFO  @ Wed, 18 Apr 2018 14:34:59:  99000000 \n",
      "INFO  @ Wed, 18 Apr 2018 14:35:02:  100000000 \n",
      "INFO  @ Wed, 18 Apr 2018 14:35:06:  101000000 \n",
      "INFO  @ Wed, 18 Apr 2018 14:35:09:  102000000 \n",
      "INFO  @ Wed, 18 Apr 2018 14:35:13:  103000000 \n",
      "INFO  @ Wed, 18 Apr 2018 14:35:16:  104000000 \n",
      "INFO  @ Wed, 18 Apr 2018 14:35:20:  105000000 \n",
      "INFO  @ Wed, 18 Apr 2018 14:35:23:  106000000 \n",
      "INFO  @ Wed, 18 Apr 2018 14:35:27:  107000000 \n",
      "INFO  @ Wed, 18 Apr 2018 14:35:30:  108000000 \n",
      "INFO  @ Wed, 18 Apr 2018 14:35:34:  109000000 \n",
      "INFO  @ Wed, 18 Apr 2018 14:35:37:  110000000 \n",
      "INFO  @ Wed, 18 Apr 2018 14:35:41:  111000000 \n",
      "INFO  @ Wed, 18 Apr 2018 14:35:45:  112000000 \n",
      "INFO  @ Wed, 18 Apr 2018 14:35:50:  113000000 \n",
      "INFO  @ Wed, 18 Apr 2018 14:35:54:  114000000 \n",
      "INFO  @ Wed, 18 Apr 2018 14:35:59:  115000000 \n",
      "INFO  @ Wed, 18 Apr 2018 14:36:03:  116000000 \n",
      "INFO  @ Wed, 18 Apr 2018 14:36:07:  117000000 \n",
      "INFO  @ Wed, 18 Apr 2018 14:36:12:  118000000 \n",
      "INFO  @ Wed, 18 Apr 2018 14:36:16:  119000000 \n",
      "INFO  @ Wed, 18 Apr 2018 14:36:20:  120000000 \n",
      "INFO  @ Wed, 18 Apr 2018 14:36:25:  121000000 \n",
      "INFO  @ Wed, 18 Apr 2018 14:36:29:  122000000 \n",
      "INFO  @ Wed, 18 Apr 2018 14:36:34:  123000000 \n",
      "INFO  @ Wed, 18 Apr 2018 14:36:39:  124000000 \n",
      "INFO  @ Wed, 18 Apr 2018 14:36:43:  125000000 \n",
      "INFO  @ Wed, 18 Apr 2018 14:36:48:  126000000 \n",
      "INFO  @ Wed, 18 Apr 2018 14:36:52:  127000000 \n",
      "INFO  @ Wed, 18 Apr 2018 14:36:57:  128000000 \n",
      "INFO  @ Wed, 18 Apr 2018 14:37:01:  129000000 \n",
      "INFO  @ Wed, 18 Apr 2018 14:37:06:  130000000 \n",
      "INFO  @ Wed, 18 Apr 2018 14:37:10:  131000000 \n",
      "INFO  @ Wed, 18 Apr 2018 14:37:15:  132000000 \n",
      "INFO  @ Wed, 18 Apr 2018 14:37:19:  133000000 \n",
      "INFO  @ Wed, 18 Apr 2018 14:37:24:  134000000 \n",
      "INFO  @ Wed, 18 Apr 2018 14:37:28:  135000000 \n",
      "INFO  @ Wed, 18 Apr 2018 14:37:33:  136000000 \n",
      "INFO  @ Wed, 18 Apr 2018 14:37:38:  137000000 \n",
      "INFO  @ Wed, 18 Apr 2018 14:37:42:  138000000 \n",
      "INFO  @ Wed, 18 Apr 2018 14:37:47:  139000000 \n",
      "INFO  @ Wed, 18 Apr 2018 14:37:52:  140000000 \n",
      "INFO  @ Wed, 18 Apr 2018 14:37:56:  141000000 \n",
      "INFO  @ Wed, 18 Apr 2018 14:38:01:  142000000 \n",
      "INFO  @ Wed, 18 Apr 2018 14:38:05:  143000000 \n",
      "INFO  @ Wed, 18 Apr 2018 14:38:10:  144000000 \n",
      "INFO  @ Wed, 18 Apr 2018 14:38:14:  145000000 \n",
      "INFO  @ Wed, 18 Apr 2018 14:38:19:  146000000 \n",
      "INFO  @ Wed, 18 Apr 2018 14:38:24:  147000000 \n",
      "INFO  @ Wed, 18 Apr 2018 14:38:28:  148000000 \n",
      "INFO  @ Wed, 18 Apr 2018 14:38:32:  149000000 \n",
      "INFO  @ Wed, 18 Apr 2018 14:38:37: #1.2 read input tags... \n",
      "INFO  @ Wed, 18 Apr 2018 14:38:37: Detected format is: BAM \n",
      "INFO  @ Wed, 18 Apr 2018 14:38:37: * Input file is gzipped. \n",
      "INFO  @ Wed, 18 Apr 2018 14:38:42:  1000000 \n",
      "INFO  @ Wed, 18 Apr 2018 14:38:46:  2000000 \n",
      "INFO  @ Wed, 18 Apr 2018 14:38:51:  3000000 \n",
      "INFO  @ Wed, 18 Apr 2018 14:38:55:  4000000 \n",
      "INFO  @ Wed, 18 Apr 2018 14:39:00:  5000000 \n",
      "INFO  @ Wed, 18 Apr 2018 14:39:04:  6000000 \n"
     ]
    },
    {
     "name": "stdout",
     "output_type": "stream",
     "text": [
      "INFO  @ Wed, 18 Apr 2018 14:39:08:  7000000 \n",
      "INFO  @ Wed, 18 Apr 2018 14:39:13:  8000000 \n",
      "INFO  @ Wed, 18 Apr 2018 14:39:17:  9000000 \n",
      "INFO  @ Wed, 18 Apr 2018 14:39:21:  10000000 \n",
      "INFO  @ Wed, 18 Apr 2018 14:39:26:  11000000 \n",
      "INFO  @ Wed, 18 Apr 2018 14:39:30:  12000000 \n",
      "INFO  @ Wed, 18 Apr 2018 14:39:35:  13000000 \n",
      "INFO  @ Wed, 18 Apr 2018 14:39:39:  14000000 \n",
      "INFO  @ Wed, 18 Apr 2018 14:39:44:  15000000 \n",
      "INFO  @ Wed, 18 Apr 2018 14:39:48:  16000000 \n",
      "INFO  @ Wed, 18 Apr 2018 14:39:53:  17000000 \n",
      "INFO  @ Wed, 18 Apr 2018 14:39:57:  18000000 \n",
      "INFO  @ Wed, 18 Apr 2018 14:40:02:  19000000 \n",
      "INFO  @ Wed, 18 Apr 2018 14:40:06:  20000000 \n",
      "INFO  @ Wed, 18 Apr 2018 14:40:10:  21000000 \n",
      "INFO  @ Wed, 18 Apr 2018 14:40:15:  22000000 \n",
      "INFO  @ Wed, 18 Apr 2018 14:40:19:  23000000 \n",
      "INFO  @ Wed, 18 Apr 2018 14:40:24:  24000000 \n",
      "INFO  @ Wed, 18 Apr 2018 14:40:28:  25000000 \n",
      "INFO  @ Wed, 18 Apr 2018 14:40:33:  26000000 \n",
      "INFO  @ Wed, 18 Apr 2018 14:40:37:  27000000 \n",
      "INFO  @ Wed, 18 Apr 2018 14:40:41:  28000000 \n",
      "INFO  @ Wed, 18 Apr 2018 14:40:46:  29000000 \n",
      "INFO  @ Wed, 18 Apr 2018 14:40:51:  30000000 \n",
      "INFO  @ Wed, 18 Apr 2018 14:40:55:  31000000 \n",
      "INFO  @ Wed, 18 Apr 2018 14:41:00:  32000000 \n",
      "INFO  @ Wed, 18 Apr 2018 14:41:04:  33000000 \n",
      "INFO  @ Wed, 18 Apr 2018 14:41:08:  34000000 \n",
      "INFO  @ Wed, 18 Apr 2018 14:41:13:  35000000 \n",
      "INFO  @ Wed, 18 Apr 2018 14:41:17:  36000000 \n",
      "INFO  @ Wed, 18 Apr 2018 14:41:22:  37000000 \n",
      "INFO  @ Wed, 18 Apr 2018 14:41:26:  38000000 \n",
      "INFO  @ Wed, 18 Apr 2018 14:41:31:  39000000 \n",
      "INFO  @ Wed, 18 Apr 2018 14:41:35:  40000000 \n",
      "INFO  @ Wed, 18 Apr 2018 14:41:40:  41000000 \n",
      "INFO  @ Wed, 18 Apr 2018 14:41:44:  42000000 \n",
      "INFO  @ Wed, 18 Apr 2018 14:41:48:  43000000 \n",
      "INFO  @ Wed, 18 Apr 2018 14:41:53:  44000000 \n",
      "INFO  @ Wed, 18 Apr 2018 14:41:57:  45000000 \n",
      "INFO  @ Wed, 18 Apr 2018 14:42:01:  46000000 \n",
      "INFO  @ Wed, 18 Apr 2018 14:42:05:  47000000 \n",
      "INFO  @ Wed, 18 Apr 2018 14:42:09:  48000000 \n",
      "INFO  @ Wed, 18 Apr 2018 14:42:14:  49000000 \n",
      "INFO  @ Wed, 18 Apr 2018 14:42:18:  50000000 \n",
      "INFO  @ Wed, 18 Apr 2018 14:42:23:  51000000 \n",
      "INFO  @ Wed, 18 Apr 2018 14:42:27:  52000000 \n",
      "INFO  @ Wed, 18 Apr 2018 14:42:32:  53000000 \n",
      "INFO  @ Wed, 18 Apr 2018 14:42:36:  54000000 \n",
      "INFO  @ Wed, 18 Apr 2018 14:42:41:  55000000 \n",
      "INFO  @ Wed, 18 Apr 2018 14:42:45:  56000000 \n",
      "INFO  @ Wed, 18 Apr 2018 14:42:50:  57000000 \n",
      "INFO  @ Wed, 18 Apr 2018 14:42:54:  58000000 \n",
      "INFO  @ Wed, 18 Apr 2018 14:42:58:  59000000 \n",
      "INFO  @ Wed, 18 Apr 2018 14:43:03:  60000000 \n",
      "INFO  @ Wed, 18 Apr 2018 14:43:07:  61000000 \n",
      "INFO  @ Wed, 18 Apr 2018 14:43:12:  62000000 \n",
      "INFO  @ Wed, 18 Apr 2018 14:43:16:  63000000 \n",
      "INFO  @ Wed, 18 Apr 2018 14:43:20:  64000000 \n",
      "INFO  @ Wed, 18 Apr 2018 14:43:25:  65000000 \n",
      "INFO  @ Wed, 18 Apr 2018 14:43:29:  66000000 \n",
      "INFO  @ Wed, 18 Apr 2018 14:43:34:  67000000 \n",
      "INFO  @ Wed, 18 Apr 2018 14:43:38:  68000000 \n",
      "INFO  @ Wed, 18 Apr 2018 14:43:42:  69000000 \n"
     ]
    }
   ],
   "source": [
    "for index, individual in enumerate(ChIPSeqControl):\n",
    "    immunoprecipitate = ChIPSeqTreatment.iloc[index] + \".sorted.bam\"\n",
    "    sample = ChIPSeqControl.iloc[index] + \".sorted.bam\"\n",
    "    !macs2 callpeak -c test/$sample -t test/$immunoprecipitate -n test/$immunoprecipitate --outdir test/$immunoprecipitate"
   ]
  },
  {
   "cell_type": "markdown",
   "metadata": {},
   "source": [
    "For an in-depth discussion of what MACS2 does: https://github.com/taoliu/MACS/wiki/Advanced:-Call-peaks-using-MACS2-subcommands"
   ]
  },
  {
   "cell_type": "markdown",
   "metadata": {},
   "source": [
    "## Bedtools\n",
    "\n",
    "In this tutorial, we'll use bedtools to extract the intersecting regions of the MACS output between the experimental conditions.\n",
    "\n",
    "First we'll sort the output. The following line uses the `sort` command to sort the MACS output."
   ]
  },
  {
   "cell_type": "code",
   "execution_count": null,
   "metadata": {},
   "outputs": [],
   "source": [
    "!sort -k 1,1 -k2,2n test/SRR6703661/SRR6703661.narrowPeak > output1\n",
    "!sort -k 1,1 -k2,2n test/SRR6703663/SRR6703663.narrowPeak > output2"
   ]
  },
  {
   "cell_type": "markdown",
   "metadata": {},
   "source": [
    "Then we'll use pybedtools to truncate the output files to chromosome so no ends are out of bounds. "
   ]
  },
  {
   "cell_type": "code",
   "execution_count": null,
   "metadata": {},
   "outputs": [],
   "source": [
    "from pybedtools import BedTool\n",
    "\n",
    "BedTool(output1).truncate_to_chrom('sacCer3').saveas(output_trunc1)\n",
    "BedTool(output2).truncate_to_chrom('sacCer3').saveas(output_trunc2)"
   ]
  },
  {
   "cell_type": "markdown",
   "metadata": {},
   "source": [
    "Then we'll find the intersecting regions between the experimental conditions and the control conditions. "
   ]
  },
  {
   "cell_type": "code",
   "execution_count": null,
   "metadata": {},
   "outputs": [],
   "source": [
    "!bedtools intersect -a output_trunc1 -b output_trunc2 -u > intersect12"
   ]
  },
  {
   "cell_type": "markdown",
   "metadata": {},
   "source": [
    "# RNA-Seq\n",
    "## HTSeq (High-through sequencing)\n",
    "\n",
    "HTSeq is a Python library to facilitate the rapid development of RNA-Seq analysis. HTSeq offers parsers for many common data formats in HTS projects, as well as classes to represent data, such as genomic coordinates, sequences, sequencing reads, alignments, gene model information and variant calls, and provides data structures that allow for querying via genomic coordinates. In this tutorial we will use htseq-count, a tool developed with HTSeq that preprocesses RNA-Seq data for differential expression analysis by counting the overlap of reads with genes."
   ]
  },
  {
   "cell_type": "code",
   "execution_count": null,
   "metadata": {},
   "outputs": [],
   "source": [
    "from pandas import read_csv\n",
    "\n",
    "gtf = \"../data/Saccharomyces_cerevisiae.R64-1-1.84.gtf\"\n",
    "\n",
    "RNASeqSRARunTableFile='../data/RNASeqSRA.tsv'\n",
    "RNASeqSRATable = read_csv(RNASeqSRARunTableFile, delimiter='\\t')\n",
    "RNASeqoutrun = (RNASeqSRATable[\"Run\"]).astype(list)\n",
    "RNASeqoutputSortBam = \"test/\" + RNASeqoutrun + \".sorted.bam\""
   ]
  },
  {
   "cell_type": "code",
   "execution_count": null,
   "metadata": {},
   "outputs": [],
   "source": [
    "for index, individual in enumerate(RNASeqoutputSortBam):\n",
    "    input = individual\n",
    "    output = individual + \".genecount.txt\"\n",
    "    !htseq-count -m intersection-nonempty -s no -f bam $input $gtf > $output"
   ]
  },
  {
   "cell_type": "markdown",
   "metadata": {},
   "source": [
    "## featureCounts\n",
    "\n",
    "featureCounts is a highly efficient general-purpose read summarization program that counts mapped reads for genomic features such as genes, exons, promoter, gene bodies, genomic bins and chromosomal locations. It can be used to count both RNA-seq and genomic DNA-seq reads. It is available in the SourceForge Subread package or the Bioconductor Rsubread package."
   ]
  },
  {
   "cell_type": "code",
   "execution_count": null,
   "metadata": {},
   "outputs": [],
   "source": [
    "for index, individual in enumerate(RNASeqoutputSortBam):\n",
    "    input = individual\n",
    "    !featureCounts -s -a $gtf -o ../test/featureCounts $input"
   ]
  },
  {
   "cell_type": "markdown",
   "metadata": {},
   "source": [
    "## DESeq (Differential Expression Sequencing)\n",
    "\n",
    "Estimate variance-mean dependence in count data from high-throughput sequencing assays and test for differential expression based on a model using the negative binomial distribution"
   ]
  },
  {
   "cell_type": "code",
   "execution_count": null,
   "metadata": {},
   "outputs": [],
   "source": [
    "!Rscript ../scripts/runDeseq.R"
   ]
  },
  {
   "cell_type": "markdown",
   "metadata": {},
   "source": [
    "## Salmon\n",
    "\n",
    "Salmon is a tool for quantifying the expression of transcripts using RNA-seq data. Salmon uses new algorithms (specifically, coupling the concept of quasi-mapping with a two-phase inference procedure) to provide accurate expression estimates very quickly (i.e. wicked-fast) and while using little memory. Salmon performs its inference using an expressive and realistic model of RNA-seq data that takes into account experimental attributes and biases commonly observed in real RNA-seq data."
   ]
  },
  {
   "cell_type": "code",
   "execution_count": null,
   "metadata": {},
   "outputs": [],
   "source": [
    "!wget -O ../data/transcript.fa.gz ftp://ftp.ncbi.nlm.nih.gov/genomes/all/GCF/000/146/045/GCF_000146045.2_R64/GCF_000146045.2_R64_rna.fna.gz"
   ]
  },
  {
   "cell_type": "code",
   "execution_count": null,
   "metadata": {},
   "outputs": [],
   "source": [
    "Then unzip the transcript.fa.gz file."
   ]
  },
  {
   "cell_type": "code",
   "execution_count": null,
   "metadata": {},
   "outputs": [],
   "source": [
    "!gunzip ../data/transcript.fa.gz"
   ]
  },
  {
   "cell_type": "code",
   "execution_count": null,
   "metadata": {},
   "outputs": [],
   "source": [
    "Finally, create the salmon index and run salmon on it."
   ]
  },
  {
   "cell_type": "code",
   "execution_count": null,
   "metadata": {},
   "outputs": [],
   "source": [
    "salmon_index = \"../test/yeast-salmon.idx\"\n",
    "\n",
    "!salmon index -t ../data/transcript.fa -i $salmon_index --type quasi -k 31\n"
   ]
  },
  {
   "cell_type": "code",
   "execution_count": null,
   "metadata": {},
   "outputs": [],
   "source": [
    "from pandas import read_csv\n",
    "\n",
    "RNASeqSRARunTableFile='../data/RNASeqSRA.tsv'\n",
    "RNASeqSRATable = read_csv(RNASeqSRARunTableFile, delimiter='\\t')\n",
    "RNASeqoutrun = (RNASeqSRATable[\"Run\"])\n",
    "RNASeqBam = \"test/\" + RNASeqoutrun + \".sorted.bam\"\n",
    "\n",
    "for index, individual in enumerate(RNASeqBam):\n",
    "    !salmon quant --targets $salmon_index -l A --output ../test -a ../$individual"
   ]
  },
  {
   "cell_type": "markdown",
   "metadata": {},
   "source": [
    "## dupRadar\n",
    "dupRadar provides an easy way to distinguish between artifactual vs natural duplicate reads in RNA-Seq data. Prior to dupRadar only global duplication rates were used and they don't take into account the effect of gene expression levels. dupRadar relates duplication rates and length normalized read counts of every gene to model the dependency of both variables."
   ]
  },
  {
   "cell_type": "code",
   "execution_count": null,
   "metadata": {},
   "outputs": [],
   "source": [
    "for index, individual in enumerate(RNASeqoutputSortBam):\n",
    "    !Rscript ../scripts/dupRadar.R $individual $gtf"
   ]
  }
 ],
 "metadata": {
  "kernelspec": {
   "display_name": "Python 2",
   "language": "python",
   "name": "python2"
  },
  "language_info": {
   "codemirror_mode": {
    "name": "ipython",
    "version": 2
   },
   "file_extension": ".py",
   "mimetype": "text/x-python",
   "name": "python",
   "nbconvert_exporter": "python",
   "pygments_lexer": "ipython2",
   "version": "2.7.14"
  }
 },
 "nbformat": 4,
 "nbformat_minor": 2
}
