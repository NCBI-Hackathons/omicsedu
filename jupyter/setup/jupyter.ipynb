{
 "cells": [
  {
   "cell_type": "markdown",
   "metadata": {},
   "source": [
    "# Installation\n",
    "\n",
    "Before running any programs, make sure that each software is installed correctly. This tutorial uses Bioconda (https://bioconda.github.io/). Bioconda is a channel for the conda package manager specializing in bioinformatics software. The available packages are listed here: https://bioconda.github.io/recipes.html#recipes.\n",
    "\n",
    "Install conda as follows:"
   ]
  },
  {
   "cell_type": "markdown",
   "metadata": {},
   "source": [
    "## Install conda\n",
    "\n",
    "Follow the instructions to install conda depending on your operating system.\n",
    "\n",
    "Linux: \n",
    "https://conda.io/docs/user-guide/install/linux.html\n",
    "\n",
    "Mac: \n",
    "https://conda.io/docs/user-guide/install/macos.html\n",
    "\n",
    "Windows: \n",
    "https://conda.io/docs/user-guide/install/windows.html"
   ]
  },
  {
   "cell_type": "markdown",
   "metadata": {},
   "source": [
    "## Set up channels\n",
    "\n",
    "After installing conda you will need to add the bioconda channel as well as the other channels bioconda depends on. It is important to add them in this order so that the priority is set correctly (that is, bioconda is highest priority).\n",
    "\n",
    "The conda-forge channel contains many general-purpose packages not already found in the defaults channel. The r channel is only included due to backward compatibility. It is not mandatory, but without the r channel packages compiled against R 3.3.1 might not work.\n",
    "\n",
    "Run the following command to set up the channels. Copy and paste each line into the command line and press enter."
   ]
  },
  {
   "cell_type": "code",
   "execution_count": 3,
   "metadata": {},
   "outputs": [
    {
     "name": "stdout",
     "output_type": "stream",
     "text": [
      "Warning: 'defaults' already in 'channels' list, moving to the top\n",
      "Warning: 'conda-forge' already in 'channels' list, moving to the top\n",
      "Warning: 'bioconda' already in 'channels' list, moving to the top\n"
     ]
    }
   ],
   "source": [
    "!conda config --add channels defaults\n",
    "!conda config --add channels conda-forge\n",
    "!conda config --add channels bioconda"
   ]
  },
  {
   "cell_type": "markdown",
   "metadata": {},
   "source": [
    "## Create an environment and install the packages\n",
    "\n",
    "In this tutorial we will create an environment named \"tutorial\" and install the packages in there. Environments offer ways of installing packages in specific environments so they can be managed and run for different specifications. You can create, export, list, remove and update environments that have different versions of Python and/or packages installed in them. Switching or moving between environments is called activating the environment. You can also share an environment file.\n",
    "\n",
    "This command will create an environment \"tutorial\" in which to install the packages used in this tutorial.\n",
    "\n",
    "Copy and paste the following line into command line and press enter. When it asks if you want to proceed, do so. "
   ]
  },
  {
   "cell_type": "code",
   "execution_count": 1,
   "metadata": {},
   "outputs": [
    {
     "name": "stdout",
     "output_type": "stream",
     "text": [
      "\r\n",
      "CondaValueError: prefix already exists: /home/ubuntu/anaconda3/envs/tutorial\r\n",
      "\r\n"
     ]
    }
   ],
   "source": [
    "conda create -n tutorial hisat2 multiqc macs2 salmon bioconductor-deseq matplotlib ggplot pybedtools samtools bioconductor-rsamtools bedtools"
   ]
  },
  {
   "cell_type": "markdown",
   "metadata": {},
   "source": [
    "Then activate the environment with the following command."
   ]
  },
  {
   "cell_type": "code",
   "execution_count": 5,
   "metadata": {},
   "outputs": [
    {
     "ename": "SyntaxError",
     "evalue": "invalid syntax (<ipython-input-5-474e8ebeb848>, line 3)",
     "output_type": "error",
     "traceback": [
      "\u001b[0;36m  File \u001b[0;32m\"<ipython-input-5-474e8ebeb848>\"\u001b[0;36m, line \u001b[0;32m3\u001b[0m\n\u001b[0;31m    source activate tutorial\u001b[0m\n\u001b[0m                  ^\u001b[0m\n\u001b[0;31mSyntaxError\u001b[0m\u001b[0;31m:\u001b[0m invalid syntax\n"
     ]
    }
   ],
   "source": [
    "source activate tutorial"
   ]
  },
  {
   "cell_type": "markdown",
   "metadata": {},
   "source": [
    "## Install EDirect\n",
    "\n",
    "EDirect will be used for downloading the files, but it is not on Bioconda so it must be installed manually.\n",
    "\n",
    "Copy+paste each of the following lines and run them."
   ]
  },
  {
   "cell_type": "code",
   "execution_count": 1,
   "metadata": {},
   "outputs": [
    {
     "name": "stdout",
     "output_type": "stream",
     "text": [
      "Reading package lists... Done\n",
      "Building dependency tree       \n",
      "Reading state information... Done\n",
      "0 upgraded, 0 newly installed, 0 to remove and 38 not upgraded.\n",
      "Hit:1 http://us-east-1.ec2.archive.ubuntu.com/ubuntu xenial InRelease\n",
      "Hit:2 http://us-east-1.ec2.archive.ubuntu.com/ubuntu xenial-updates InRelease\n",
      "Hit:3 http://us-east-1.ec2.archive.ubuntu.com/ubuntu xenial-backports InRelease\n",
      "Hit:4 http://security.ubuntu.com/ubuntu xenial-security InRelease              \n",
      "Reading package lists... Done                     \n",
      "Reading package lists... Done\n",
      "Building dependency tree       \n",
      "Reading state information... Done\n",
      "build-essential is already the newest version (12.1ubuntu2).\n",
      "0 upgraded, 0 newly installed, 0 to remove and 38 not upgraded.\n",
      "Reading package lists... Done\n",
      "Building dependency tree       \n",
      "Reading state information... Done\n",
      "libnet-ssleay-perl is already the newest version (1.72-1build1).\n",
      "0 upgraded, 0 newly installed, 0 to remove and 38 not upgraded.\n",
      "Reading package lists... Done\n",
      "Building dependency tree       \n",
      "Reading state information... Done\n",
      "libcam-pdf-perl is already the newest version (1.60-2).\n",
      "0 upgraded, 0 newly installed, 0 to remove and 38 not upgraded.\n",
      "Loading internal null logger. Install Log::Log4perl for logging messages\n",
      "Reading '/home/ubuntu/.cpan/Metadata'\n",
      "  Database was generated on Tue, 17 Apr 2018 14:54:37 GMT\n",
      "IO::Socket::SSL is up to date (2.056).\n",
      "Loading internal null logger. Install Log::Log4perl for logging messages\n",
      "Reading '/home/ubuntu/.cpan/Metadata'\n",
      "  Database was generated on Tue, 17 Apr 2018 14:54:37 GMT\n",
      "LWP::Protocol::https is up to date (6.07).\n",
      "Loading internal null logger. Install Log::Log4perl for logging messages\n",
      "Reading '/home/ubuntu/.cpan/Metadata'\n",
      "  Database was generated on Tue, 17 Apr 2018 14:54:37 GMT\n",
      "HTML::Entities is up to date (3.69).\n"
     ]
    }
   ],
   "source": [
    "sudo apt-get install -f\n",
    "sudo apt-get update --fix-missing\n",
    "sudo apt-get install build-essential\n",
    "sudo apt-get install libnet-ssleay-perl\n",
    "sudo apt-get install libcam-pdf-perl\n",
    "sudo cpan install IO::Socket::SSL\n",
    "sudo cpan install LWP::Protocol::https\n",
    "sudo cpan install HTML::Entities"
   ]
  },
  {
   "cell_type": "markdown",
   "metadata": {},
   "source": [
    "Then copy+paste the following lines."
   ]
  },
  {
   "cell_type": "markdown",
   "metadata": {},
   "source": [
    " cd ~\n",
    " /bin/bash\n",
    " perl -MNet::FTP -e \\\n",
    "   '$ftp = new Net::FTP(\"ftp.ncbi.nlm.nih.gov\", Passive => 1);\n",
    "    $ftp->login; $ftp->binary;\n",
    "    $ftp->get(\"/entrez/entrezdirect/edirect.tar.gz\");'\n",
    " gunzip -c edirect.tar.gz | tar xf -\n",
    " rm edirect.tar.gz\n",
    " builtin exit\n",
    " export PATH=${PATH}:$HOME/edirect >& /dev/null || setenv PATH \"${PATH}:$HOME/edirect\"\n",
    " ./edirect/setup.sh"
   ]
  },
  {
   "cell_type": "markdown",
   "metadata": {},
   "source": [
    "Then copy+paste the following line."
   ]
  },
  {
   "cell_type": "code",
   "execution_count": 4,
   "metadata": {},
   "outputs": [],
   "source": [
    "echo \"export PATH=\\$PATH:\\$HOME/edirect\" >> $HOME/.bash_profile"
   ]
  }
 ],
 "metadata": {
  "kernelspec": {
   "display_name": "Python 3",
   "language": "python",
   "name": "python3"
  },
  "language_info": {
   "codemirror_mode": {
    "name": "ipython",
    "version": 3
   },
   "file_extension": ".py",
   "mimetype": "text/x-python",
   "name": "python",
   "nbconvert_exporter": "python",
   "pygments_lexer": "ipython3",
   "version": "3.6.4"
  }
 },
 "nbformat": 4,
 "nbformat_minor": 2
}
