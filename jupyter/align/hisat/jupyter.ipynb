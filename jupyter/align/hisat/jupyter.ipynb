{
 "cells": [
  {
   "cell_type": "markdown",
   "metadata": {},
   "source": [
    "# HISAT (Hierarchical Indexing for Spliced Alignment of Transcripts)\n",
    "\n",
    "HISAT (hierarchical indexing for spliced alignment of transcripts) is a highly efficient system for aligning reads from RNA sequencing experiments. HISAT uses an indexing scheme based on the Burrows-Wheeler transform and the Ferragina-Manzini (FM) index, employing two types of indexes for alignment: a whole-genome FM index to anchor each alignment and numerous local FM indexes for very rapid extensions of these alignments. HISAT’s hierarchical index for the human genome contains 48,000 local FM indexes, each representing a genomic region of ~64,000 bp.\n",
    "\n",
    "First we use Hisat2 to download the "
   ]
  },
  {
   "cell_type": "code",
   "execution_count": 1,
   "metadata": {},
   "outputs": [
    {
     "name": "stdout",
     "output_type": "stream",
     "text": [
      "/bin/sh: 1: fastq-dump: not found\r\n"
     ]
    }
   ],
   "source": [
    "!fastq-dump -Z SRR1987759 SRR1987758 SRR1987757 SRR1987756 SRR1987755 SRR1987754 SRR1987752 SRR1987751 SRR1987750 SRR1987749 SRR1987747 SRR1987746 SRR1987745 SRR1987744 SRR1987743 SRR1987742 SRR1987690 SRR1987686 SRR1987685 SRR1987684"
   ]
  },
  {
   "cell_type": "code",
   "execution_count": null,
   "metadata": {},
   "outputs": [],
   "source": [
    "file = open(\"SRA.txt\", \"r\")\n",
    "lines = file.readlines()\n",
    "for line in lines:\n",
    "    sraNum = line.split();\n",
    "    output = \"/home/ubuntu/SteveSemick/test/\" + sraNum[0] + \".sam\"\n",
    "    print(output)\n",
    "    \"\"\"!/home/ubuntu/SteveSemick/hisat2-2.1.0/hisat2\\\n",
    "       -x /home/ubuntu/SteveSemick/hisat2-2.1.0/grch38/genome\\\n",
    "       --sra-acc sraNum -S output.sam\"\"\"\n",
    "file.close"
   ]
  }
 ],
 "metadata": {
  "kernelspec": {
   "display_name": "Python 3",
   "language": "python",
   "name": "python3"
  },
  "language_info": {
   "codemirror_mode": {
    "name": "ipython",
    "version": 3
   },
   "file_extension": ".py",
   "mimetype": "text/x-python",
   "name": "python",
   "nbconvert_exporter": "python",
   "pygments_lexer": "ipython3",
   "version": "3.6.4"
  }
 },
 "nbformat": 4,
 "nbformat_minor": 2
}
