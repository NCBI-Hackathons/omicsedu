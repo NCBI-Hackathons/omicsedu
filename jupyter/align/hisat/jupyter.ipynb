{
 "cells": [
  {
   "cell_type": "markdown",
   "metadata": {},
   "source": [
    "# HISAT (Hierarchical Indexing for Spliced Alignment of Transcripts)\n",
    "\n",
    "HISAT (hierarchical indexing for spliced alignment of transcripts) is a highly efficient system for aligning reads from RNA sequencing experiments. HISAT uses an indexing scheme based on the Burrows-Wheeler transform and the Ferragina-Manzini (FM) index, employing two types of indexes for alignment: a whole-genome FM index to anchor each alignment and numerous local FM indexes for very rapid extensions of these alignments. HISAT’s hierarchical index for the human genome contains 48,000 local FM indexes, each representing a genomic region of ~64,000 bp.\n",
    "\n",
    "We are going to use Yeast (Saccharomyces cerevisiae) S288C. S288C refers to the strain of the Yeast. "
   ]
  },
  {
   "cell_type": "code",
   "execution_count": 3,
   "metadata": {},
   "outputs": [
    {
     "name": "stdout",
     "output_type": "stream",
     "text": [
      "/bin/sh: 1: esearch: not found\r\n",
      "/bin/sh: 1: xtract: not found\r\n",
      "\r\n",
      "  EFETCH - retrieve entries from sequence databases.\r\n",
      "\r\n",
      "  Synopsis: efetch -options [database:]<query> \r\n",
      "\r\n",
      "  Databases:  SWissprot/SP, PIR, WOrmpep/WP, EMbl, GEnbank/GB, ProDom, ProSite\r\n",
      "\r\n",
      "  Options:\r\n",
      "    -a            Search with Accession number\r\n",
      "    -f            Fasta format output\r\n",
      "    -q            Sequence only output (one line)\r\n",
      "    -s <#>        Start at position #\r\n",
      "    -e <#>        Stop at position #\r\n",
      "    -o            More options and info...\r\n",
      "\r\n",
      "    -D <dir>      Specify database directory\r\n",
      "    -H            Display index header data\r\n",
      "    -p            Display entrynames in search path\r\n",
      "    -r            Print sequence in 'raw' format\r\n",
      "    -m            Fetch from mixed mini database\r\n",
      "    -M            Mini format output\r\n",
      "    -b            Do NOT reverse the order of bytes\r\n",
      "                              (SunOS, IRIX do reverse, Alpha not)\r\n",
      "    -d <dbfile>   Specify database file (avoid this)\r\n",
      "    -i <idxfile>  Specify index file (avoid this)\r\n",
      "    -l <divfile>  Specify division lookup table (avoid this)\r\n",
      "    -B <database> Specify database (archaic)\r\n",
      "    -A            Only return entryname for accession number\r\n",
      "    -n <name>     Give the sequence this name\r\n",
      "    -x            Don't require query to match entry's name exactly (avoid)\r\n",
      "    -w            For Wormpep: also fetch cross-referenced SwissProt entry\r\n",
      "    -h            shows this help text\r\n",
      "\r\n",
      "\r\n",
      "  Environment:\r\n",
      "  SWDIR      = SwissProt  directory - database and EMBL index files\r\n",
      "  PIRDIR     = PIR        -- \" --\r\n",
      "  WORMDIR    = Wormpep    -- \" --\r\n",
      "  EMBLDIR    = EMBL       -- \" --\r\n",
      "  GBDIR      = Genbank    -- \" --\r\n",
      "  PRODOMDIR  = ProDom     -- \" --\r\n",
      "  PROSITEDIR = ProSite    -- \" --\r\n",
      "  DBDIR      = User's own -- \" -- (fasta format)\r\n",
      "\r\n",
      "  SEQDB    database file (default SwissProt)\r\n",
      "  SEQDBIDX index file\r\n",
      "  DIVTABL  division lookup table\r\n",
      "\r\n",
      "  Ex. setenv DBDIR /pubseq/seqlibs/embl/\r\n",
      "\r\n",
      "  Note that Prodom family consensus seqs can be fetched by PD:_#\r\n",
      "\r\n",
      "  by Erik Sonnhammer (esr@sanger.ac.uk)\r\n",
      "  Version 2.1, \r\n",
      "wget: missing URL\r\n",
      "Usage: wget [OPTION]... [URL]...\r\n",
      "\r\n",
      "Try `wget --help' for more options.\r\n"
     ]
    }
   ],
   "source": [
    "wget `esearch -db assembly -query \"Saccharomyces cerevisiae[ORGN] AND 288C[SB]\" | \\\n",
    "efetch -format docsum | \\\n",
    "xtract -pattern DocumentSummary -element FtpPath_RefSeq | \\\n",
    "awk -F\"/\" '{print $0\"/\"$NF\"_genomic.fna.gz\"}'`"
   ]
  },
  {
   "cell_type": "markdown",
   "metadata": {},
   "source": [
    "First we use Hisat2 to download the the files and align them. Select the following cell and run it."
   ]
  },
  {
   "cell_type": "code",
   "execution_count": 4,
   "metadata": {},
   "outputs": [
    {
     "name": "stdout",
     "output_type": "stream",
     "text": [
      "test/SRA1.sam\n",
      "test/SRA2.sam\n",
      "test/SRA3.sam\n",
      "test/SRA4.sam\n",
      "test/SRA5.sam\n",
      "test/SRA6.sam\n"
     ]
    },
    {
     "data": {
      "text/plain": [
       "<function TextIOWrapper.close>"
      ]
     },
     "execution_count": 4,
     "metadata": {},
     "output_type": "execute_result"
    }
   ],
   "source": [
    "file = open(\"SRA.txt\", \"r\")\n",
    "lines = file.readlines()\n",
    "for line in lines:\n",
    "    sraNum = line.split();\n",
    "    output = \"test/\" + sraNum[0] + \".sam\"\n",
    "    print(output)\n",
    "    \"\"\"!hisat2\\\n",
    "       -x hisat2-2.1.0/grch38/genome\\\n",
    "       --sra-acc sraNum -S output.sam\"\"\"\n",
    "file.close"
   ]
  }
 ],
 "metadata": {
  "kernelspec": {
   "display_name": "Python 3",
   "language": "python",
   "name": "python3"
  },
  "language_info": {
   "codemirror_mode": {
    "name": "ipython",
    "version": 3
   },
   "file_extension": ".py",
   "mimetype": "text/x-python",
   "name": "python",
   "nbconvert_exporter": "python",
   "pygments_lexer": "ipython3",
   "version": "3.6.4"
  }
 },
 "nbformat": 4,
 "nbformat_minor": 2
}
