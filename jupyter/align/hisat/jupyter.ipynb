{
 "cells": [
  {
   "cell_type": "markdown",
   "metadata": {},
   "source": [
    "# HISAT (Hierarchical Indexing for Spliced Alignment of Transcripts)\n",
    "\n",
    "HISAT (hierarchical indexing for spliced alignment of transcripts) is a highly efficient system for aligning reads from RNA sequencing experiments. HISAT uses an indexing scheme based on the Burrows-Wheeler transform and the Ferragina-Manzini (FM) index, employing two types of indexes for alignment: a whole-genome FM index to anchor each alignment and numerous local FM indexes for very rapid extensions of these alignments. HISAT’s hierarchical index for the human genome contains 48,000 local FM indexes, each representing a genomic region of ~64,000 bp.\n",
    "\n",
    "First we use Hisat2 to download the the files and align them. Select the following cell and run it."
   ]
  },
  {
   "cell_type": "code",
   "execution_count": 4,
   "metadata": {},
   "outputs": [
    {
     "name": "stdout",
     "output_type": "stream",
     "text": [
      "test/SRA1.sam\n",
      "test/SRA2.sam\n",
      "test/SRA3.sam\n",
      "test/SRA4.sam\n",
      "test/SRA5.sam\n",
      "test/SRA6.sam\n"
     ]
    },
    {
     "data": {
      "text/plain": [
       "<function TextIOWrapper.close>"
      ]
     },
     "execution_count": 4,
     "metadata": {},
     "output_type": "execute_result"
    }
   ],
   "source": [
    "file = open(\"SRA.txt\", \"r\")\n",
    "lines = file.readlines()\n",
    "for line in lines:\n",
    "    sraNum = line.split();\n",
    "    output = \"test/\" + sraNum[0] + \".sam\"\n",
    "    print(output)\n",
    "    \"\"\"!hisat2\\\n",
    "       -x hisat2-2.1.0/grch38/genome\\\n",
    "       --sra-acc sraNum -S output.sam\"\"\"\n",
    "file.close"
   ]
  }
 ],
 "metadata": {
  "kernelspec": {
   "display_name": "Python 3",
   "language": "python",
   "name": "python3"
  },
  "language_info": {
   "codemirror_mode": {
    "name": "ipython",
    "version": 3
   },
   "file_extension": ".py",
   "mimetype": "text/x-python",
   "name": "python",
   "nbconvert_exporter": "python",
   "pygments_lexer": "ipython3",
   "version": "3.6.4"
  }
 },
 "nbformat": 4,
 "nbformat_minor": 2
}
