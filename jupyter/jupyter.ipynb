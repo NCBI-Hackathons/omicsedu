{
 "cells": [
  {
   "cell_type": "markdown",
   "metadata": {},
   "source": [
    "# Bowtie Alignment\n",
    "## Indexing and mapping\n",
    "\n",
    "This is where I write what I'm teaching you."
   ]
  },
  {
   "cell_type": "code",
   "execution_count": null,
   "metadata": {
    "collapsed": true
   },
   "outputs": [],
   "source": [
    "import os\n",
    "\n",
    "os.system(\n",
    "    \"\"\"\n",
    "    bowtie2-build input params\n",
    "    \"\"\"\n",
    ")\n",
    "\n",
    "os.system(\n",
    "    \"\"\"\n",
    "    bowtie2 \\\n",
    "    -x params \\\n",
    "    -U input.fastq  \\\n",
    "    -S output.sam \\\n",
    "    2> logs/bowtie-map.log && \\\n",
    "    samtools view -Sbh output.sam > output && \\\n",
    "    rm output.sam\n",
    "    \"\"\")"
   ]
  }
 ],
 "metadata": {
  "kernelspec": {
   "display_name": "Python 3",
   "language": "python",
   "name": "python3"
  },
  "language_info": {
   "codemirror_mode": {
    "name": "ipython",
    "version": 3
   },
   "file_extension": ".py",
   "mimetype": "text/x-python",
   "name": "python",
   "nbconvert_exporter": "python",
   "pygments_lexer": "ipython3",
   "version": "3.6.3"
  }
 },
 "nbformat": 4,
 "nbformat_minor": 2
}
