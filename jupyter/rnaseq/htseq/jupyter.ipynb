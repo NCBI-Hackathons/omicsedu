{
 "cells": [
  {
   "cell_type": "markdown",
   "metadata": {},
   "source": [
    "# HTSeq (High-through sequencing)\n",
    "\n",
    "HTSeq is a Python library to facilitate the rapid development of RNA-Seq analysis. HTSeq offers parsers for many common data formats in HTS projects, as well as classes to represent data, such as genomic coordinates, sequences, sequencing reads, alignments, gene model information and variant calls, and provides data structures that allow for querying via genomic coordinates. In this tutorial we will use htseq-count, a tool developed with HTSeq that preprocesses RNA-Seq data for differential expression analysis by counting the overlap of reads with genes."
   ]
  },
  {
   "cell_type": "code",
   "execution_count": 1,
   "metadata": {},
   "outputs": [],
   "source": [
    "from pandas import read_csv\n",
    "\n",
    "RNASeqSRARunTableFile='../../../data/RNASeqSRA.tsv'\n",
    "RNASeqSRATable = read_csv(RNASeqSRARunTableFile, delimiter='\\t')\n",
    "RNASeqoutrun = (RNASeqSRATable[\"Run\"]).astype(list)\n",
    "RNASeqoutputSortBam = \"test/\" + RNASeqoutrun + \".sorted.bam\""
   ]
  },
  {
   "cell_type": "code",
   "execution_count": null,
   "metadata": {},
   "outputs": [
    {
     "name": "stdout",
     "output_type": "stream",
     "text": [
      "42071 GFF lines processed.\n",
      "100000 SAM alignment records processed.\n",
      "200000 SAM alignment records processed.\n",
      "300000 SAM alignment records processed.\n",
      "400000 SAM alignment records processed.\n",
      "500000 SAM alignment records processed.\n",
      "600000 SAM alignment records processed.\n",
      "700000 SAM alignment records processed.\n",
      "800000 SAM alignment records processed.\n",
      "900000 SAM alignment records processed.\n"
     ]
    }
   ],
   "source": [
    "for index, individual in enumerate(RNASeqoutputSortBam):\n",
    "    input = \"/home/ubuntu/hussainather/omicsedu/\" + individual\n",
    "    output = \"/home/ubuntu/hussainather/omicsedu/\" + individual + \".genecount.txt\"\n",
    "    gtf = \"/home/ubuntu/hussainather/omicsedu/data/Saccharomyces_cerevisiae.R64-1-1.84.gtf\"\n",
    "    !htseq-count -m intersection-nonempty -s no -f bam $input $gtf > $output\n",
    "    "
   ]
  }
 ],
 "metadata": {
  "kernelspec": {
   "display_name": "Python 3",
   "language": "python",
   "name": "python3"
  },
  "language_info": {
   "codemirror_mode": {
    "name": "ipython",
    "version": 3
   },
   "file_extension": ".py",
   "mimetype": "text/x-python",
   "name": "python",
   "nbconvert_exporter": "python",
   "pygments_lexer": "ipython3",
   "version": "3.6.4"
  }
 },
 "nbformat": 4,
 "nbformat_minor": 2
}
