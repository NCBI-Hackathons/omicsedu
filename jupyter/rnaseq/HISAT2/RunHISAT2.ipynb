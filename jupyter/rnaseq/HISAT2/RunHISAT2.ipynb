{
 "cells": [
  {
   "cell_type": "markdown",
   "metadata": {},
   "source": [
    "Run HISAT2 on SRA file, do not need to download.\n",
    "To run, put SRA ID in SRA.txt (we assume first 3 to be Mock, last 3 to be Treatment)."
   ]
  },
  {
   "cell_type": "code",
   "execution_count": 11,
   "metadata": {},
   "outputs": [
    {
     "name": "stdout",
     "output_type": "stream",
     "text": [
      "/home/ubuntu/SteveSemick/test/SRA1.sam\n",
      "/home/ubuntu/SteveSemick/test/SRA2.sam\n",
      "/home/ubuntu/SteveSemick/test/SRA3.sam\n",
      "/home/ubuntu/SteveSemick/test/SRA4.sam\n",
      "/home/ubuntu/SteveSemick/test/SRA5.sam\n",
      "/home/ubuntu/SteveSemick/test/SRA6.sam\n"
     ]
    },
    {
     "data": {
      "text/plain": [
       "<function TextIOWrapper.close>"
      ]
     },
     "execution_count": 11,
     "metadata": {},
     "output_type": "execute_result"
    }
   ],
   "source": [
    "file = open(\"SRA.txt\", \"r\")\n",
    "lines = file.readlines()\n",
    "for line in lines:\n",
    "    sraNum = line.split();\n",
    "    output = \"/home/ubuntu/SteveSemick/test/\" + sraNum[0] + \".sam\"\n",
    "    print (output)\n",
    "    \"\"\"!/home/ubuntu/SteveSemick/hisat2-2.1.0/hisat2\\\n",
    "       -x /home/ubuntu/SteveSemick/hisat2-2.1.0/grch38/genome\\\n",
    "       --sra-acc sraNum -S output.sam\"\"\"\n",
    "file.close"
   ]
  }
 ],
 "metadata": {
  "kernelspec": {
   "display_name": "Python 3",
   "language": "python",
   "name": "python3"
  },
  "language_info": {
   "codemirror_mode": {
    "name": "ipython",
    "version": 3
   },
   "file_extension": ".py",
   "mimetype": "text/x-python",
   "name": "python",
   "nbconvert_exporter": "python",
   "pygments_lexer": "ipython3",
   "version": "3.6.4"
  }
 },
 "nbformat": 4,
 "nbformat_minor": 2
}
