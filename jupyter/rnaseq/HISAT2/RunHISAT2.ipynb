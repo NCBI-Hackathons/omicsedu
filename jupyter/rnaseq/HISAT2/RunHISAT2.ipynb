{
 "cells": [
  {
   "cell_type": "markdown",
   "metadata": {},
   "source": [
    "Run HISAT2 on SRA file, do not need to download.\n",
    "To run, put SRA ID in SRA.txt (we assume first 3 to be Mock, last 3 to be Treatment).\n",
    "The output will be sorted and indexed Bam files (sraNum.sorted.bam)."
   ]
  },
  {
   "cell_type": "code",
   "execution_count": 14,
   "metadata": {},
   "outputs": [
    {
     "name": "stdout",
     "output_type": "stream",
     "text": [
      "/home/ubuntu/SteveSemick/test/SRA1.sam\n",
      "/home/ubuntu/SteveSemick/test/SRA1.sorted.bam\n",
      "/home/ubuntu/SteveSemick/test/SRA2.sam\n",
      "/home/ubuntu/SteveSemick/test/SRA2.sorted.bam\n",
      "/home/ubuntu/SteveSemick/test/SRA3.sam\n",
      "/home/ubuntu/SteveSemick/test/SRA3.sorted.bam\n",
      "/home/ubuntu/SteveSemick/test/SRA4.sam\n",
      "/home/ubuntu/SteveSemick/test/SRA4.sorted.bam\n",
      "/home/ubuntu/SteveSemick/test/SRA5.sam\n",
      "/home/ubuntu/SteveSemick/test/SRA5.sorted.bam\n",
      "/home/ubuntu/SteveSemick/test/SRA6.sam\n",
      "/home/ubuntu/SteveSemick/test/SRA6.sorted.bam\n"
     ]
    },
    {
     "data": {
      "text/plain": [
       "<function TextIOWrapper.close>"
      ]
     },
     "execution_count": 14,
     "metadata": {},
     "output_type": "execute_result"
    }
   ],
   "source": [
    "file = open(\"SRA.txt\", \"r\")\n",
    "lines = file.readlines()\n",
    "for line in lines:\n",
    "    sraNum = line.split();\n",
    "    outputSam = \"/home/ubuntu/SteveSemick/test/\" + sraNum[0] + \".sam\"\n",
    "    outputSortBam = \"/home/ubuntu/SteveSemick/test/\" + sraNum[0] + \".sorted.bam\"\n",
    "    print(outputSam)\n",
    "    print(outputSortBam)\n",
    "    \"\"\"!/home/ubuntu/SteveSemick/hisat2-2.1.0/hisat2\\\n",
    "       -x /home/ubuntu/SteveSemick/hisat2-2.1.0/grch38/genome\\\n",
    "       --sra-acc sraNum -S outputSam\n",
    "       !samtools view -bSF4 outputSam | samtools sort -o outputSortBam\n",
    "       !samtools index outputSortBam\"\"\"\n",
    "file.close"
   ]
  },
  {
   "cell_type": "code",
   "execution_count": null,
   "metadata": {},
   "outputs": [],
   "source": []
  }
 ],
 "metadata": {
  "kernelspec": {
   "display_name": "Python 3",
   "language": "python",
   "name": "python3"
  },
  "language_info": {
   "codemirror_mode": {
    "name": "ipython",
    "version": 3
   },
   "file_extension": ".py",
   "mimetype": "text/x-python",
   "name": "python",
   "nbconvert_exporter": "python",
   "pygments_lexer": "ipython3",
   "version": "3.6.4"
  }
 },
 "nbformat": 4,
 "nbformat_minor": 2
}
