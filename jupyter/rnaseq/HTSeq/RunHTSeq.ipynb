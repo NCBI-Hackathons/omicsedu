{
 "cells": [
  {
   "cell_type": "markdown",
   "metadata": {},
   "source": [
    "Use sorted and indexed Bam files as input and generate genecount.txt files.We assume first 3 to be Mock, last 3 to be Treatment."
   ]
  },
  {
   "cell_type": "code",
   "execution_count": 22,
   "metadata": {},
   "outputs": [
    {
     "name": "stdout",
     "output_type": "stream",
     "text": [
      "SRA6test.sorted.bam\n",
      "SRA6test.genecount.txt\n",
      "SRA2test.sorted.bam\n",
      "SRA2test.genecount.txt\n",
      "SRA4test.sorted.bam\n",
      "SRA4test.genecount.txt\n",
      "SRA5test.sorted.bam\n",
      "SRA5test.genecount.txt\n",
      "SRA1test.sorted.bam\n",
      "SRA1test.genecount.txt\n",
      "SRA3test.sorted.bam\n",
      "SRA3test.genecount.txt\n"
     ]
    }
   ],
   "source": [
    "import os\n",
    "filelist = os.listdir(\"/home/ubuntu/SteveSemick/test\")\n",
    "suffix = \"sorted.bam\"\n",
    "for file in filelist:\n",
    "    if file.endswith(suffix):\n",
    "        inputBam = file\n",
    "        baseName = inputBam.split(\".\")[0]\n",
    "        outputCountFile = baseName + \".genecount.txt\"\n",
    "        \"\"\"tseq-count -m intersection-nonempty -i gene_name -s no -f bam \\\n",
    "        inputBam \\\n",
    "        /hpcdata/lmi_ias/wanhu/DropSeq/mm10/mm10.gtf \\\n",
    "        > outputCountFile\"\"\"      \n",
    "        print(file)\n",
    "        print(outputCountFile)\n"
   ]
  },
  {
   "cell_type": "code",
   "execution_count": null,
   "metadata": {},
   "outputs": [],
   "source": []
  }
 ],
 "metadata": {
  "kernelspec": {
   "display_name": "Python 3",
   "language": "python",
   "name": "python3"
  },
  "language_info": {
   "codemirror_mode": {
    "name": "ipython",
    "version": 3
   },
   "file_extension": ".py",
   "mimetype": "text/x-python",
   "name": "python",
   "nbconvert_exporter": "python",
   "pygments_lexer": "ipython3",
   "version": "3.6.4"
  }
 },
 "nbformat": 4,
 "nbformat_minor": 2
}
