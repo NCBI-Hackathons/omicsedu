{
 "cells": [
  {
   "cell_type": "markdown",
   "metadata": {},
   "source": [
    "# Running quality control on RNAseq and ChIPseq data using MultiQC\n",
    "\n",
    "This section details quality control checks on the read data from either RNAseq or ChIPseq data using MultiQC. MultiQC takes all output and log files from an alignment software program and aggregates the information from all samples into one convenient report (html by default).\n",
    "\n",
    "MultiQC was installed earlier in the tutorial, so all we need to do is run it on the data."
   ]
  },
  {
   "cell_type": "markdown",
   "metadata": {},
   "source": [
    "### Running MultiQC\n",
    "MultiQC is configured to run the same no matter what type of sequencing data is available, therefore the same command can be used to analyze either our RNAseq data or our ChIPseq data.  We include the option 'hisat_output' since we are aligning using the HISAT2 program.  See http://multiqc.info/docs/ for more information."
   ]
  },
  {
   "cell_type": "markdown",
   "metadata": {},
   "source": [
    "#### RNA-seq data\n",
    "\n",
    "We use the 'hisat_output' option because we are analyzing data downloaded and aligned using the HISAT2 program.  We use the '--force' option to overwrite any previous versions of the multiqc_report.  '--quiet' only shows log warnings."
   ]
  },
  {
   "cell_type": "code",
   "execution_count": null,
   "metadata": {},
   "outputs": [],
   "source": [
    "!multiqc hisat_output --quiet --outdir output --force"
   ]
  },
  {
   "cell_type": "markdown",
   "metadata": {},
   "source": [
    "#### ChIP-seq data"
   ]
  },
  {
   "cell_type": "code",
   "execution_count": null,
   "metadata": {},
   "outputs": [],
   "source": [
    "!multiqc hisat_output --quiet --outdir output --force"
   ]
  },
  {
   "cell_type": "code",
   "execution_count": 15,
   "metadata": {},
   "outputs": [
    {
     "name": "stdout",
     "output_type": "stream",
     "text": [
      "Usage: multiqc [OPTIONS] <analysis directory>\r\n",
      "\r\n",
      "  MultiQC aggregates results from bioinformatics analyses across many\r\n",
      "  samples into a single report.\r\n",
      "\r\n",
      "  It searches a given directory for analysis logs and compiles a HTML\r\n",
      "  report. It's a general use tool, perfect for summarising the output from\r\n",
      "  numerous bioinformatics tools.\r\n",
      "\r\n",
      "  To run, supply with one or more directory to scan for analysis results. To\r\n",
      "  run here, use 'multiqc .'\r\n",
      "\r\n",
      "  See http://multiqc.info for more details.\r\n",
      "\r\n",
      "  Author: Phil Ewels (http://phil.ewels.co.uk)\r\n",
      "\r\n",
      "Options:\r\n",
      "  -f, --force                     Overwrite any existing reports\r\n",
      "  -d, --dirs                      Prepend directory to sample names\r\n",
      "  -dd, --dirs-depth INTEGER       Prepend [INT] directories to sample names.\r\n",
      "                                  Negative number to take from start of path.\r\n",
      "  -s, --fullnames                 Do not clean the sample names (leave as full\r\n",
      "                                  file name)\r\n",
      "  -i, --title TEXT                Report title. Printed as page header, used\r\n",
      "                                  for filename if not otherwise specified.\r\n",
      "  -b, --comment TEXT              Custom comment, will be printed at the top\r\n",
      "                                  of the report.\r\n",
      "  -n, --filename TEXT             Report filename. Use 'stdout' to print to\r\n",
      "                                  standard out.\r\n",
      "  -o, --outdir TEXT               Create report in the specified output\r\n",
      "                                  directory.\r\n",
      "  -t, --template [default|default_dev|geo|sections|simple]\r\n",
      "                                  Report template to use.\r\n",
      "  -x, --ignore TEXT               Ignore analysis files (glob expression)\r\n",
      "  --ignore-samples TEXT           Ignore sample names (glob expression)\r\n",
      "  --sample-names PATH             File containing alternative sample names\r\n",
      "  -l, --file-list                 Supply a file containing a list of file\r\n",
      "                                  paths to be searched, one per row\r\n",
      "  -e, --exclude [module name]     Do not use this module. Can specify multiple\r\n",
      "                                  times.\r\n",
      "  -m, --module [module name]      Use only this module. Can specify multiple\r\n",
      "                                  times.\r\n",
      "  --data-dir                      Force the parsed data directory to be\r\n",
      "                                  created.\r\n",
      "  --no-data-dir                   Prevent the parsed data directory from being\r\n",
      "                                  created.\r\n",
      "  -k, --data-format [tsv|json|yaml]\r\n",
      "                                  Output parsed data in a different format.\r\n",
      "                                  Default: tsv\r\n",
      "  -z, --zip-data-dir              Compress the data directory.\r\n",
      "  -p, --export                    Export plots as static images in addition to\r\n",
      "                                  the report\r\n",
      "  -fp, --flat                     Use only flat plots (static images)\r\n",
      "  -ip, --interactive              Use only interactive plots (HighCharts\r\n",
      "                                  Javascript)\r\n",
      "  --pdf                           Creates PDF report with 'simple' template.\r\n",
      "                                  Requires Pandoc to be installed.\r\n",
      "  -c, --config PATH               Specific config file to load, after those in\r\n",
      "                                  MultiQC dir / home dir / working dir.\r\n",
      "  --cl_config TEXT                Specify MultiQC config YAML on the command\r\n",
      "                                  line\r\n",
      "  -v, --verbose                   Increase output verbosity.\r\n",
      "  -q, --quiet                     Only show log warnings\r\n",
      "  --version                       Show the version and exit.\r\n",
      "  -h, --help                      Show this message and exit.\r\n"
     ]
    }
   ],
   "source": [
    "!multiqc --help"
   ]
  }
 ],
 "metadata": {
  "kernelspec": {
   "display_name": "Python 3",
   "language": "python",
   "name": "python3"
  },
  "language_info": {
   "codemirror_mode": {
    "name": "ipython",
    "version": 3
   },
   "file_extension": ".py",
   "mimetype": "text/x-python",
   "name": "python",
   "nbconvert_exporter": "python",
   "pygments_lexer": "ipython3",
   "version": "3.6.4"
  }
 },
 "nbformat": 4,
 "nbformat_minor": 2
}
