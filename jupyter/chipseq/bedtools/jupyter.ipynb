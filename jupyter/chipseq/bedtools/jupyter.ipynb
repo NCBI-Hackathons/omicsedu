{
 "cells": [
  {
   "cell_type": "markdown",
   "metadata": {},
   "source": [
    "# Bedtools\n",
    "\n",
    "In this tutorial, we'll use bedtools to extract the intersecting regions of the MACS output between the experimental conditions.\n",
    "\n",
    "First we'll sort the output. The following line uses the `sort` command to sort the MACS output:"
   ]
  },
  {
   "cell_type": "code",
   "execution_count": null,
   "metadata": {},
   "outputs": [],
   "source": [
    "!sort -k 1,1 -k2,2n input1 > output1\n",
    "!sort -k 1,1 -k2,2n input2 > output2"
   ]
  },
  {
   "cell_type": "markdown",
   "metadata": {},
   "source": [
    "Then we'll use pybedtools to truncate the output files to chromosome so no ends are out of bounds. \n",
    "\n",
    "Run the following python snippet:"
   ]
  },
  {
   "cell_type": "code",
   "execution_count": null,
   "metadata": {},
   "outputs": [],
   "source": [
    "from pybedtools import BedTool\n",
    "\n",
    "BedTool(output1).truncate_to_chrom('sacCer3').saveas(output_trunc1)\n",
    "BedTool(output2).truncate_to_chrom('sacCer3').saveas(output_trunc2)"
   ]
  },
  {
   "cell_type": "markdown",
   "metadata": {},
   "source": [
    "Then we'll find the intersecting regions between the experimental conditions and the control conditions. "
   ]
  },
  {
   "cell_type": "code",
   "execution_count": null,
   "metadata": {},
   "outputs": [],
   "source": [
    "!bedtools intersect -a output_trunc1 -b output_trunc2 -u > intersect12"
   ]
  }
 ],
 "metadata": {
  "kernelspec": {
   "display_name": "Python 2",
   "language": "python",
   "name": "python2"
  },
  "language_info": {
   "codemirror_mode": {
    "name": "ipython",
    "version": 2
   },
   "file_extension": ".py",
   "mimetype": "text/x-python",
   "name": "python",
   "nbconvert_exporter": "python",
   "pygments_lexer": "ipython2",
   "version": "2.7.14"
  }
 },
 "nbformat": 4,
 "nbformat_minor": 2
}
